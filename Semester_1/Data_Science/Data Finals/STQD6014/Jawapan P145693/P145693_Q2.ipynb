{
 "cells": [
  {
   "cell_type": "code",
   "execution_count": 3,
   "id": "5495e33e-7c64-4227-bbbf-804c69fc44fb",
   "metadata": {},
   "outputs": [
    {
     "name": "stdout",
     "output_type": "stream",
     "text": [
      "C:\\Users\\PC04\\Desktop\\stq6014_data sains_sem1\\Data\n"
     ]
    }
   ],
   "source": [
    "import os\n",
    "print(os.getcwd())  # Current dir\n"
   ]
  },
  {
   "cell_type": "code",
   "execution_count": 5,
   "id": "c5f85545-eb91-4e50-b4b0-0577e199aa42",
   "metadata": {},
   "outputs": [
    {
     "name": "stdout",
     "output_type": "stream",
     "text": [
      "Combined text read successfully!\n",
      "First 300 characters of the combined file:\n",
      " people buy teslas because of their strong brand image, advanced technology, and extensive supercharger network. tesla cars are known for their impressive performance, constant software updates that keep the vehicles current.\n",
      " the malaysian meteorological department has issued a warning of continuous\n"
     ]
    }
   ],
   "source": [
    "# Step 1: Read and merge all three files\n",
    "file_names = [\"text1.txt\", \"text2.txt\", \"text3.txt\"]\n",
    "combined_text = \"\"\n",
    "\n",
    "for file in file_names:\n",
    "    with open(file, \"r\", encoding=\"utf-8\") as f:\n",
    "        combined_text += f.read().lower() + \" \"  # Convert text to lowercase\n",
    "\n",
    "# Print first 300 characters\n",
    "print(\"Combined text read successfully!\")\n",
    "print(\"First 300 characters of the combined file:\\n\", combined_text[:300])\n"
   ]
  },
  {
   "cell_type": "code",
   "execution_count": 11,
   "id": "6082b7ce-6cae-432d-bf91-7057b5855ac6",
   "metadata": {},
   "outputs": [],
   "source": [
    "# Reading data from file1\n",
    "\n",
    "# Creating a list of filenames\n",
    "filenames = ['text1.txt', 'text2.txt','text3.txt' ]\n",
    "\n",
    "\n",
    "with open('text1.txt') as fp:\n",
    "    data = fp.read()\n",
    "\n",
    "# Reading data from file2\n",
    "with open('text2.txt') as fp:\n",
    "    data2 = fp.read()\n",
    "\n",
    "\n",
    "# Reading data from file3\n",
    "with open('text3.txt') as fp:\n",
    "    data3 = fp.read()\n",
    "\n",
    "\n",
    "# Merging 2 files\n",
    "# To add the data of file2\n",
    "# from next line\n",
    "data += \"\\n\"\n",
    "data += data2 + \"\\n\"\n",
    "data += data3\n",
    "\n",
    "with open ('file4.txt', 'w') as fp:\n",
    "    fp.write(data)"
   ]
  },
  {
   "cell_type": "code",
   "execution_count": 13,
   "id": "d4cf57cd-c7a0-4bd2-b73e-571c730a2861",
   "metadata": {},
   "outputs": [
    {
     "name": "stdout",
     "output_type": "stream",
     "text": [
      "People buy Teslas because of their strong brand image, advanced technology, and extensive Supercharger network. Tesla cars are known for their impressive performance, constant software updates that keep the vehicles current.\n",
      "\n",
      "The Malaysian Meteorological Department has issued a warning of continuous rain in several areas in Sarawak from Tuesday until Wednesday.\n",
      "\n",
      "National shuttler Ng Tze Yong has been ruled out of the prestigious All-England in Birmingham.\n",
      "\n"
     ]
    }
   ],
   "source": [
    "# Step 1: Define the path to the merged file\n",
    "merged_file_path = 'file4.txt'\n",
    "\n",
    "# Step 2: Read the merged file\n",
    "try:\n",
    "    with open(merged_file_path, \"r\", encoding=\"utf-8\") as file:\n",
    "        text = file.read()\n",
    "\n",
    "    # Step 3: Display the original text\n",
    "    print(text)\n",
    "\n",
    "except FileNotFoundError:\n",
    "    print(\"The specified file was not found. Please check the file path and try again.\")\n"
   ]
  },
  {
   "cell_type": "code",
   "execution_count": 31,
   "id": "3d72e76e-8d83-4740-bdf9-92c8fac18cd9",
   "metadata": {},
   "outputs": [
    {
     "name": "stdout",
     "output_type": "stream",
     "text": [
      "\n",
      "Step 2: Preprocessed Text without Stop Words (First 50 Words)\n",
      "['people', 'buy', 'teslas', 'because', 'their', 'strong', 'brand', 'image', 'advanced', 'technology', 'extensive', 'supercharger', 'network', 'tesla', 'cars', 'are', 'known', 'their', 'impressive', 'performance', 'constant', 'software', 'updates', 'keep', 'vehicles', 'current', 'malaysian', 'meteorological', 'department', 'has', 'issued', 'warning', 'continuous', 'rain', 'several', 'areas', 'sarawak', 'from', 'tuesday', 'until', 'wednesday', 'national', 'shuttler', 'ng', 'tze', 'yong', 'has', 'been', 'ruled', 'out']\n"
     ]
    }
   ],
   "source": [
    " # Step 2: Preprocess the text\n",
    "def preprocess_text(text):\n",
    "    # Convert text to lowercase\n",
    "    text = text.lower()\n",
    "    \n",
    "    # Remove punctuation manually\n",
    "    punctuation = '!\"#$%&\\'()*+,-./:;<=>?@[\\\\]^_`{|}~'\n",
    "    for char in punctuation:\n",
    "        text = text.replace(char, '')\n",
    "\n",
    "    # Remove numbers manually\n",
    "    numbers = '0123456789'\n",
    "    for num in numbers:\n",
    "        text = text.replace(num, '')\n",
    "\n",
    "    # Split text into words\n",
    "    words = text.split()\n",
    "    return words\n",
    "\n",
    "# Define stop words\n",
    "stop_words = ['the', 'and', 'is', 'in', 'to', 'with', 'a', 'of', 'for', 'on', 'it', 'this', 'that', 'you', 'i', 'he', 'she', 'we', 'they', 'as', 'at', 'by', 'an', 'be', 'not']\n",
    "\n",
    "# Perform preprocessing and remove stop words\n",
    "words = preprocess_text(text)\n",
    "filtered_words = [word for word in words if word not in stop_words]\n",
    "print(\"\\nStep 2: Preprocessed Text without Stop Words (First 50 Words)\")\n",
    "print(filtered_words[:50])  # Display the first 50 words for brevity\n"
   ]
  },
  {
   "cell_type": "code",
   "execution_count": 33,
   "id": "76e3b01d-7fb7-40d8-b0b1-dd1604024e38",
   "metadata": {},
   "outputs": [
    {
     "name": "stdout",
     "output_type": "stream",
     "text": [
      "\n",
      "Step 3: Word Frequencies (First 20 Words)\n",
      "people: 1\n",
      "buy: 1\n",
      "teslas: 1\n",
      "because: 1\n",
      "of: 3\n",
      "their: 2\n",
      "strong: 1\n",
      "brand: 1\n",
      "image: 1\n",
      "advanced: 1\n",
      "technology: 1\n",
      "and: 1\n",
      "extensive: 1\n",
      "supercharger: 1\n",
      "network: 1\n",
      "tesla: 1\n",
      "cars: 1\n",
      "are: 1\n",
      "known: 1\n",
      "for: 1\n"
     ]
    }
   ],
   "source": [
    "#Step 3: Count word frequencies\n",
    "word_freq = {}\n",
    "for word in words:\n",
    "    if word in word_freq:\n",
    "        word_freq[word] += 1\n",
    "    else:\n",
    "        word_freq[word] = 1\n",
    "\n",
    "print(\"\\nStep 3: Word Frequencies (First 20 Words)\")\n",
    "for i, (word, freq) in enumerate(word_freq.items()):\n",
    "    if i < 20:\n",
    "        print(f\"{word}: {freq}\")"
   ]
  },
  {
   "cell_type": "code",
   "execution_count": 35,
   "id": "61aea691-bd64-4285-8e48-8a05f9ed494b",
   "metadata": {},
   "outputs": [
    {
     "name": "stdout",
     "output_type": "stream",
     "text": [
      "\n",
      "Step 4: Top 5 Words\n",
      "of: 3\n",
      "the: 3\n",
      "in: 3\n",
      "their: 2\n",
      "has: 2\n"
     ]
    }
   ],
   "source": [
    "# Step 4: Find the top 5 words\n",
    "top_5_words = sorted(word_freq.items(), key=lambda x: x[1], reverse=True)[:5]\n",
    "\n",
    "print(\"\\nStep 4: Top 5 Words\")\n",
    "for word, freq in top_5_words:\n",
    "    print(f\"{word}: {freq}\")"
   ]
  },
  {
   "cell_type": "code",
   "execution_count": null,
   "id": "4e9fffec-be46-4d0f-a0e6-796b36d8849c",
   "metadata": {},
   "outputs": [],
   "source": []
  }
 ],
 "metadata": {
  "kernelspec": {
   "display_name": "Python 3 (ipykernel)",
   "language": "python",
   "name": "python3"
  },
  "language_info": {
   "codemirror_mode": {
    "name": "ipython",
    "version": 3
   },
   "file_extension": ".py",
   "mimetype": "text/x-python",
   "name": "python",
   "nbconvert_exporter": "python",
   "pygments_lexer": "ipython3",
   "version": "3.12.4"
  }
 },
 "nbformat": 4,
 "nbformat_minor": 5
}
