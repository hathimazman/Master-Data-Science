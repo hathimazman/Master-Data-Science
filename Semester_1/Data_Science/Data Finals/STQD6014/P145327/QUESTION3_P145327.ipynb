{
 "cells": [
  {
   "cell_type": "code",
   "execution_count": 12,
   "id": "a69536f5",
   "metadata": {},
   "outputs": [
    {
     "name": "stdout",
     "output_type": "stream",
     "text": [
      "People buy Teslas because of their strong brand image, advanced technology, and extensive Supercharger network. Tesla cars are known for their impressive performance, constant software updates that keep the vehicles current.\n",
      "\n"
     ]
    }
   ],
   "source": [
    "# QUSETION 3 a)\n",
    "text1=open('text1.txt', 'r', encoding='utf-8')\n",
    "print(text1.read())\n",
    "\n"
   ]
  },
  {
   "cell_type": "code",
   "execution_count": 14,
   "id": "4a359964",
   "metadata": {},
   "outputs": [
    {
     "ename": "NameError",
     "evalue": "name 'count_word_frequencies' is not defined",
     "output_type": "error",
     "traceback": [
      "\u001b[1;31m---------------------------------------------------------------------------\u001b[0m",
      "\u001b[1;31mNameError\u001b[0m                                 Traceback (most recent call last)",
      "Cell \u001b[1;32mIn[14], line 2\u001b[0m\n\u001b[0;32m      1\u001b[0m stop_words \u001b[38;5;241m=\u001b[39m \u001b[38;5;28mset\u001b[39m([\u001b[38;5;124m\"\u001b[39m\u001b[38;5;124ma\u001b[39m\u001b[38;5;124m\"\u001b[39m, \u001b[38;5;124m\"\u001b[39m\u001b[38;5;124mb\u001b[39m\u001b[38;5;124m\"\u001b[39m, \u001b[38;5;124m\"\u001b[39m\u001b[38;5;124mc\u001b[39m\u001b[38;5;124m\"\u001b[39m])\n\u001b[1;32m----> 2\u001b[0m word_counts \u001b[38;5;241m=\u001b[39m count_word_frequencies(text1, stop_words)\n",
      "\u001b[1;31mNameError\u001b[0m: name 'count_word_frequencies' is not defined"
     ]
    }
   ],
   "source": [
    "stop_words = set([\"a\", \"b\", \"c\"])\n",
    "word_counts = count_word_frequencies(text1, stop_words)"
   ]
  },
  {
   "cell_type": "code",
   "execution_count": 6,
   "id": "3a3f3676",
   "metadata": {},
   "outputs": [
    {
     "name": "stdout",
     "output_type": "stream",
     "text": [
      "The Malaysian Meteorological Department has issued a warning of continuous rain in several areas in Sarawak from Tuesday until Wednesday.\n",
      "\n"
     ]
    }
   ],
   "source": [
    "text2=open('text2.txt', 'r')\n",
    "print(text2.read())"
   ]
  },
  {
   "cell_type": "code",
   "execution_count": 7,
   "id": "82da7776",
   "metadata": {},
   "outputs": [
    {
     "name": "stdout",
     "output_type": "stream",
     "text": [
      "National shuttler Ng Tze Yong has been ruled out of the prestigious All-England in Birmingham.\n",
      "\n"
     ]
    }
   ],
   "source": [
    "text3=open('text3.txt', 'r')\n",
    "print(text3.read())"
   ]
  },
  {
   "cell_type": "code",
   "execution_count": 13,
   "id": "4e14d7f2",
   "metadata": {},
   "outputs": [
    {
     "ename": "IndentationError",
     "evalue": "expected an indented block after function definition on line 4 (3556908040.py, line 5)",
     "output_type": "error",
     "traceback": [
      "\u001b[1;36m  Cell \u001b[1;32mIn[13], line 5\u001b[1;36m\u001b[0m\n\u001b[1;33m    word_counts = Counter()\u001b[0m\n\u001b[1;37m    ^\u001b[0m\n\u001b[1;31mIndentationError\u001b[0m\u001b[1;31m:\u001b[0m expected an indented block after function definition on line 4\n"
     ]
    }
   ],
   "source": [
    "# QUESTION 3 b)\n",
    "#from collections import Counter\n",
    "\n",
    "def count_word_frequencies(filenames, stop_words):\n",
    "word_counts = Counter()\n",
    "for filename in filenames:\n",
    "try:\n",
    "with open(filename, 'r', encoding='utf-8') as file:  issues\n",
    "for line in file:\n",
    "line = line.lower() # Case-insensitive\n",
    "line = line.translate(str.maketrans('', '', string.punctuation)) #remove punctuation\n",
    "words = line.split()\n",
    "for word in words:\n",
    "if word not in stop_words and word.strip(): #check not empty string\n",
    "word_counts[word] += 1\n",
    "except FileNotFoundError:\n",
    "print(f\"File not found: {filename}\")\n",
    "except Exception as e:\n",
    "print(f\"An error occurred while processing {filename}: {e}\")\n",
    "return word_counts"
   ]
  },
  {
   "cell_type": "code",
   "execution_count": null,
   "id": "a0a47da5",
   "metadata": {},
   "outputs": [],
   "source": [
    "filenames = ['file1.txt', 'file2.txt', 'file3.txt'] # Replace with your file names\n",
    "stop_words = set(['a', 'the', 'and', 'from', 'where', 'what', 'was',\n",
    "                  'when', 'I', 'you', 'we', 'us', 'me', 'for']) \n"
   ]
  }
 ],
 "metadata": {
  "kernelspec": {
   "display_name": "Python 3 (ipykernel)",
   "language": "python",
   "name": "python3"
  },
  "language_info": {
   "codemirror_mode": {
    "name": "ipython",
    "version": 3
   },
   "file_extension": ".py",
   "mimetype": "text/x-python",
   "name": "python",
   "nbconvert_exporter": "python",
   "pygments_lexer": "ipython3",
   "version": "3.11.7"
  }
 },
 "nbformat": 4,
 "nbformat_minor": 5
}
