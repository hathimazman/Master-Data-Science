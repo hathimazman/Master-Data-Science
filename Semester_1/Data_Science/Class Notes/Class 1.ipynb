{
 "cells": [
  {
   "cell_type": "markdown",
   "id": "a9c5f5c4-6382-45ab-8a4a-af618d42b93a",
   "metadata": {},
   "source": [
    "**Our first class**"
   ]
  },
  {
   "cell_type": "code",
   "execution_count": 6,
   "id": "73ae3615-9f56-4203-9ae5-0f063d321253",
   "metadata": {},
   "outputs": [
    {
     "name": "stdout",
     "output_type": "stream",
     "text": [
      "Hello world\n"
     ]
    }
   ],
   "source": [
    "print(\"Hello world\")"
   ]
  },
  {
   "cell_type": "markdown",
   "id": "0d4cbf99-0ca0-4b76-938a-1922d10a7911",
   "metadata": {},
   "source": [
    "# First Heading"
   ]
  },
  {
   "cell_type": "markdown",
   "id": "ffb429a7-b934-4dff-ace8-594f207f7962",
   "metadata": {},
   "source": [
    "## Second Heading"
   ]
  },
  {
   "cell_type": "markdown",
   "id": "44f6c67d-6990-4e52-a362-ed393b7d6f5a",
   "metadata": {},
   "source": [
    "### Third Heading"
   ]
  },
  {
   "cell_type": "code",
   "execution_count": 16,
   "id": "da69d938-cf0b-494a-aa43-626adf7b1d9c",
   "metadata": {},
   "outputs": [
    {
     "name": "stdout",
     "output_type": "stream",
     "text": [
      "4\n"
     ]
    }
   ],
   "source": [
    "print(len(\"ABCD\"))"
   ]
  },
  {
   "cell_type": "code",
   "execution_count": 32,
   "id": "3fd89ad4-834a-46ab-98be-1b7720c62212",
   "metadata": {},
   "outputs": [],
   "source": [
    "message = \"Hello Python World!\""
   ]
  },
  {
   "cell_type": "code",
   "execution_count": 34,
   "id": "3e16c1cc-a77b-4137-b404-727e4401532b",
   "metadata": {},
   "outputs": [
    {
     "name": "stdout",
     "output_type": "stream",
     "text": [
      "HELLO PYTHON WORLD!\n",
      "hello python world!\n",
      "Hello Python World!\n"
     ]
    }
   ],
   "source": [
    "print(message.upper())\n",
    "print(message.lower())\n",
    "print(message.title())"
   ]
  },
  {
   "cell_type": "code",
   "execution_count": 46,
   "id": "16d874f2-dbbc-419f-b3cd-53319df1d55c",
   "metadata": {},
   "outputs": [
    {
     "name": "stdout",
     "output_type": "stream",
     "text": [
      "ada lovelace\n",
      "\n",
      "Hello, Ada Lovelace!\n"
     ]
    }
   ],
   "source": [
    "first_name = \"ada\"\n",
    "last_name = \"lovelace\"\n",
    "full_name = first_name + \" \" + last_name\n",
    "print(full_name)\n",
    "print(\"\\nHello, \" + full_name.title() + \"!\")"
   ]
  },
  {
   "cell_type": "code",
   "execution_count": null,
   "id": "7ac5985e-272b-411c-b4c2-2694bcec77ea",
   "metadata": {},
   "outputs": [],
   "source": []
  }
 ],
 "metadata": {
  "kernelspec": {
   "display_name": "Python 3 (ipykernel)",
   "language": "python",
   "name": "python3"
  },
  "language_info": {
   "codemirror_mode": {
    "name": "ipython",
    "version": 3
   },
   "file_extension": ".py",
   "mimetype": "text/x-python",
   "name": "python",
   "nbconvert_exporter": "python",
   "pygments_lexer": "ipython3",
   "version": "3.12.4"
  }
 },
 "nbformat": 4,
 "nbformat_minor": 5
}
