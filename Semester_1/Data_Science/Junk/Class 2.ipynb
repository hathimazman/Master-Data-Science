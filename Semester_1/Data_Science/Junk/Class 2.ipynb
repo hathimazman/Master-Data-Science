{
 "cells": [
  {
   "cell_type": "code",
   "execution_count": 1,
   "metadata": {},
   "outputs": [],
   "source": [
    "import pandas as pd\n",
    "import numpy as np\n",
    "import matplotlib.pyplot as plt\n",
    "import seaborn as sns"
   ]
  },
  {
   "cell_type": "markdown",
   "metadata": {},
   "source": [
    "# Lists\n",
    "## Indexing"
   ]
  },
  {
   "cell_type": "code",
   "execution_count": 2,
   "metadata": {},
   "outputs": [],
   "source": [
    "# creating new list\n",
    "\n",
    "fam = ['liz', 1.73, 'emma',1.68,'mom',1.71,'dad',1.89]"
   ]
  },
  {
   "cell_type": "code",
   "execution_count": 3,
   "metadata": {},
   "outputs": [
    {
     "data": {
      "text/plain": [
       "([1.73, 'emma', 1.68], 1.68, ['liz', 1.73, 'emma', 1.68])"
      ]
     },
     "execution_count": 3,
     "metadata": {},
     "output_type": "execute_result"
    }
   ],
   "source": [
    "# indexing list using slicing [start (included) : end(excluded)]\n",
    "\n",
    "fam[1:4], fam[3], fam[:4]"
   ]
  },
  {
   "cell_type": "markdown",
   "metadata": {},
   "source": [
    "## Adding Elements"
   ]
  },
  {
   "cell_type": "code",
   "execution_count": 4,
   "metadata": {},
   "outputs": [
    {
     "data": {
      "text/plain": [
       "['honda', 'yamaha', 'suzuki']"
      ]
     },
     "execution_count": 4,
     "metadata": {},
     "output_type": "execute_result"
    }
   ],
   "source": [
    "motorcycles = ['honda','yamaha','suzuki']\n",
    "motorcycles"
   ]
  },
  {
   "cell_type": "markdown",
   "metadata": {},
   "source": [
    "### Change value"
   ]
  },
  {
   "cell_type": "code",
   "execution_count": 5,
   "metadata": {},
   "outputs": [
    {
     "data": {
      "text/plain": [
       "['ducati', 'yamaha', 'suzuki']"
      ]
     },
     "execution_count": 5,
     "metadata": {},
     "output_type": "execute_result"
    }
   ],
   "source": [
    "motorcycles[0] = 'ducati'\n",
    "motorcycles"
   ]
  },
  {
   "cell_type": "markdown",
   "metadata": {},
   "source": [
    "### Append"
   ]
  },
  {
   "cell_type": "code",
   "execution_count": 6,
   "metadata": {},
   "outputs": [
    {
     "data": {
      "text/plain": [
       "['ducati', 'yamaha', 'suzuki', 'ducati']"
      ]
     },
     "execution_count": 6,
     "metadata": {},
     "output_type": "execute_result"
    }
   ],
   "source": [
    "motorcycles.append('ducati')\n",
    "motorcycles"
   ]
  },
  {
   "cell_type": "markdown",
   "metadata": {},
   "source": [
    "### Insert"
   ]
  },
  {
   "cell_type": "code",
   "execution_count": 7,
   "metadata": {},
   "outputs": [
    {
     "data": {
      "text/plain": [
       "['ducati', 'yamaha', 'RXZ', 'suzuki', 'kapcai', 'ducati']"
      ]
     },
     "execution_count": 7,
     "metadata": {},
     "output_type": "execute_result"
    }
   ],
   "source": [
    "motorcycles.insert(2,'RXZ')\n",
    "motorcycles.insert(4,'kapcai')\n",
    "motorcycles"
   ]
  },
  {
   "cell_type": "markdown",
   "metadata": {},
   "source": [
    "### Remove"
   ]
  },
  {
   "cell_type": "code",
   "execution_count": 8,
   "metadata": {},
   "outputs": [
    {
     "data": {
      "text/plain": [
       "['yamaha', 'RXZ', 'suzuki', 'kapcai', 'ducati']"
      ]
     },
     "execution_count": 8,
     "metadata": {},
     "output_type": "execute_result"
    }
   ],
   "source": [
    "motorcycles.remove('ducati')\n",
    "motorcycles"
   ]
  },
  {
   "cell_type": "markdown",
   "metadata": {},
   "source": [
    "### Delete"
   ]
  },
  {
   "cell_type": "code",
   "execution_count": 9,
   "metadata": {},
   "outputs": [
    {
     "data": {
      "text/plain": [
       "['RXZ', 'suzuki', 'kapcai', 'ducati']"
      ]
     },
     "execution_count": 9,
     "metadata": {},
     "output_type": "execute_result"
    }
   ],
   "source": [
    "del motorcycles[0]\n",
    "motorcycles"
   ]
  },
  {
   "cell_type": "code",
   "execution_count": 10,
   "metadata": {},
   "outputs": [
    {
     "data": {
      "text/plain": [
       "['RXZ', 'kapcai', 'ducati']"
      ]
     },
     "execution_count": 10,
     "metadata": {},
     "output_type": "execute_result"
    }
   ],
   "source": [
    "del motorcycles[1]\n",
    "motorcycles"
   ]
  },
  {
   "cell_type": "markdown",
   "metadata": {},
   "source": [
    "### Pop"
   ]
  },
  {
   "cell_type": "code",
   "execution_count": 11,
   "metadata": {},
   "outputs": [
    {
     "data": {
      "text/plain": [
       "['RXZ', 'kapcai']"
      ]
     },
     "execution_count": 11,
     "metadata": {},
     "output_type": "execute_result"
    }
   ],
   "source": [
    "popped_motorcycle = motorcycles.pop()\n",
    "motorcycles"
   ]
  },
  {
   "cell_type": "code",
   "execution_count": 12,
   "metadata": {},
   "outputs": [
    {
     "name": "stdout",
     "output_type": "stream",
     "text": [
      "The first motorcycle i owned was a Rxz.\n"
     ]
    }
   ],
   "source": [
    "first_owned = motorcycles.pop(0)\n",
    "print(f'The first motorcycle i owned was a {first_owned.title()}.')"
   ]
  },
  {
   "cell_type": "markdown",
   "metadata": {},
   "source": [
    "### Sort"
   ]
  },
  {
   "cell_type": "code",
   "execution_count": 13,
   "metadata": {},
   "outputs": [
    {
     "data": {
      "text/plain": [
       "['kapcai']"
      ]
     },
     "execution_count": 13,
     "metadata": {},
     "output_type": "execute_result"
    }
   ],
   "source": [
    "motorcycles.sort(key=str.lower)\n",
    "motorcycles"
   ]
  },
  {
   "cell_type": "code",
   "execution_count": 14,
   "metadata": {},
   "outputs": [
    {
     "data": {
      "text/plain": [
       "['audi', 'bmw', 'subaru', 'toyota']"
      ]
     },
     "execution_count": 14,
     "metadata": {},
     "output_type": "execute_result"
    }
   ],
   "source": [
    "cars = ['bmw','audi','toyota','subaru']\n",
    "cars.sort()\n",
    "cars"
   ]
  },
  {
   "cell_type": "code",
   "execution_count": 15,
   "metadata": {},
   "outputs": [
    {
     "data": {
      "text/plain": [
       "['toyota', 'subaru', 'bmw', 'audi']"
      ]
     },
     "execution_count": 15,
     "metadata": {},
     "output_type": "execute_result"
    }
   ],
   "source": [
    "cars.reverse()\n",
    "cars"
   ]
  },
  {
   "cell_type": "code",
   "execution_count": 16,
   "metadata": {},
   "outputs": [
    {
     "data": {
      "text/plain": [
       "['toyota', 'subaru', 'bmw', 'audi']"
      ]
     },
     "execution_count": 16,
     "metadata": {},
     "output_type": "execute_result"
    }
   ],
   "source": [
    "sorted(cars, reverse=True)"
   ]
  },
  {
   "cell_type": "code",
   "execution_count": 17,
   "metadata": {},
   "outputs": [
    {
     "data": {
      "text/plain": [
       "['1', '3', 'suzuki', 'yamaha']"
      ]
     },
     "execution_count": 17,
     "metadata": {},
     "output_type": "execute_result"
    }
   ],
   "source": [
    "motor2=['suzuki','yamaha','1','3']\n",
    "sorted(motor2)"
   ]
  },
  {
   "cell_type": "markdown",
   "metadata": {},
   "source": [
    "## For looping"
   ]
  },
  {
   "cell_type": "code",
   "execution_count": 18,
   "metadata": {},
   "outputs": [
    {
     "name": "stdout",
     "output_type": "stream",
     "text": [
      "charles\n",
      "martina\n",
      "michael\n",
      "florence\n",
      "eli\n"
     ]
    }
   ],
   "source": [
    "players = ['charles','martina','michael','florence','eli']\n",
    "for player in players:\n",
    "    print(player) "
   ]
  },
  {
   "cell_type": "code",
   "execution_count": 19,
   "metadata": {},
   "outputs": [
    {
     "name": "stdout",
     "output_type": "stream",
     "text": [
      "Charles, that was a great skill!\n",
      "I can't wait to see your next match, Charles.\n",
      "\n",
      "Martina, that was a great skill!\n",
      "I can't wait to see your next match, Martina.\n",
      "\n",
      "Michael, that was a great skill!\n",
      "I can't wait to see your next match, Michael.\n",
      "\n",
      "Florence, that was a great skill!\n",
      "I can't wait to see your next match, Florence.\n",
      "\n",
      "Eli, that was a great skill!\n",
      "I can't wait to see your next match, Eli.\n",
      "\n",
      "Thank you everyone, that was a good game!\n"
     ]
    }
   ],
   "source": [
    "for player in players:\n",
    "    print(f\"{player.title()}, that was a great skill!\")\n",
    "    print(f\"I can't wait to see your next match, {player.title()}.\\n\")\n",
    "print(\"Thank you everyone, that was a good game!\")"
   ]
  },
  {
   "cell_type": "code",
   "execution_count": 20,
   "metadata": {},
   "outputs": [
    {
     "name": "stdout",
     "output_type": "stream",
     "text": [
      "1\n",
      "2\n",
      "3\n",
      "4\n"
     ]
    }
   ],
   "source": [
    "for i in range(1,5):\n",
    "    print(i)"
   ]
  },
  {
   "cell_type": "code",
   "execution_count": 21,
   "metadata": {},
   "outputs": [
    {
     "name": "stdout",
     "output_type": "stream",
     "text": [
      "[1, 4, 9, 16, 25, 36, 49, 64, 81, 100]\n"
     ]
    }
   ],
   "source": [
    "squares =[]\n",
    "for value in range(1,11):\n",
    "    squares.append(value**2)\n",
    "print(squares)\n"
   ]
  },
  {
   "cell_type": "code",
   "execution_count": 22,
   "metadata": {},
   "outputs": [
    {
     "name": "stdout",
     "output_type": "stream",
     "text": [
      "1.0\n",
      "1.5\n",
      "2.0\n",
      "2.5\n",
      "3.0\n",
      "3.5\n",
      "4.0\n",
      "4.5\n"
     ]
    }
   ],
   "source": [
    "for i in np.arange(1,5,0.5):\n",
    "    print(i)"
   ]
  },
  {
   "cell_type": "code",
   "execution_count": 23,
   "metadata": {},
   "outputs": [
    {
     "name": "stdout",
     "output_type": "stream",
     "text": [
      "Charles\n",
      "Martina\n",
      "Michael\n"
     ]
    }
   ],
   "source": [
    "for player in players[:3]:\n",
    "    print(player.title())"
   ]
  },
  {
   "cell_type": "markdown",
   "metadata": {},
   "source": [
    "# if Statements\n",
    "## Conditional Test"
   ]
  },
  {
   "cell_type": "code",
   "execution_count": 31,
   "metadata": {},
   "outputs": [
    {
     "data": {
      "text/plain": [
       "(True, False)"
      ]
     },
     "execution_count": 31,
     "metadata": {},
     "output_type": "execute_result"
    }
   ],
   "source": [
    "car ='bmw'\n",
    "car =='bmw', car == 'audi'"
   ]
  },
  {
   "cell_type": "code",
   "execution_count": 34,
   "metadata": {},
   "outputs": [
    {
     "name": "stdout",
     "output_type": "stream",
     "text": [
      "Thats not an audi!\n"
     ]
    }
   ],
   "source": [
    "if car != 'audi':\n",
    "    print('Thats not an audi!')"
   ]
  },
  {
   "cell_type": "code",
   "execution_count": 39,
   "metadata": {},
   "outputs": [
    {
     "name": "stdout",
     "output_type": "stream",
     "text": [
      "\n",
      "True\n",
      "True\n",
      "False\n",
      "\n"
     ]
    }
   ],
   "source": [
    "age = 18\n",
    "print(f'''\n",
    "{age == 18}\n",
    "{age <= 21}\n",
    "{age > 21}\n",
    "''')"
   ]
  },
  {
   "cell_type": "code",
   "execution_count": 58,
   "metadata": {},
   "outputs": [
    {
     "name": "stdout",
     "output_type": "stream",
     "text": [
      "\n",
      "age_0 >= 21 or age_1 >= 21 is True\n",
      "age_0 >- 21 and age_1 >= 17 is True\n",
      "age_0 >= 21 and age_1 >= 21 is False\n",
      "\n"
     ]
    }
   ],
   "source": [
    "age_0 = 22\n",
    "age_1 = 18\n",
    "print(f'''\n",
    "age_0 >= 21 or age_1 >= 21 is {age_0 >= 21 or age_1 >= 21}\n",
    "age_0 >- 21 and age_1 >= 17 is {age_0 >- 21 and age_1 >= 17}\n",
    "age_0 >= 21 and age_1 >= 21 is {age_0 >= 21 and age_1 >= 21}\n",
    "''')"
   ]
  },
  {
   "cell_type": "code",
   "execution_count": 62,
   "metadata": {},
   "outputs": [
    {
     "data": {
      "text/plain": [
       "(True, False)"
      ]
     },
     "execution_count": 62,
     "metadata": {},
     "output_type": "execute_result"
    }
   ],
   "source": [
    "'martina' in players, 'ela' in players"
   ]
  },
  {
   "cell_type": "code",
   "execution_count": 66,
   "metadata": {},
   "outputs": [
    {
     "data": {
      "text/plain": [
       "(False, True)"
      ]
     },
     "execution_count": 66,
     "metadata": {},
     "output_type": "execute_result"
    }
   ],
   "source": [
    "'martina' not in players, 'ela' not in players"
   ]
  },
  {
   "cell_type": "code",
   "execution_count": 68,
   "metadata": {},
   "outputs": [
    {
     "name": "stdout",
     "output_type": "stream",
     "text": [
      "Thats not a player!\n"
     ]
    }
   ],
   "source": [
    "if 'ela' not in players:\n",
    "    print('Thats not a player!')"
   ]
  },
  {
   "cell_type": "code",
   "execution_count": 71,
   "metadata": {},
   "outputs": [
    {
     "name": "stdout",
     "output_type": "stream",
     "text": [
      "Sorry, you are still young!\n"
     ]
    }
   ],
   "source": [
    "age = 17\n",
    "if age >= 18:\n",
    "    print('You are od enough to vote!')\n",
    "else:\n",
    "    print('Sorry, you are still young!')"
   ]
  },
  {
   "cell_type": "code",
   "execution_count": 159,
   "metadata": {},
   "outputs": [
    {
     "name": "stdout",
     "output_type": "stream",
     "text": [
      "Age is 3\n",
      "you are a toddler.\n",
      "\n",
      "Age is 27\n",
      "you are an adult.\n",
      "\n",
      "Age is 9\n",
      "you are a kid.\n",
      "\n",
      "Age is 62\n",
      "you are an adult.\n",
      "\n",
      "Age is 37\n",
      "you are an adult.\n",
      "\n"
     ]
    }
   ],
   "source": [
    "age = np.random.randint(1,70,5)\n",
    "for i in age:\n",
    "    print(f\"Age is {i}\")\n",
    "    if i < 2:\n",
    "        print(\"You are a baby!.\\n\")\n",
    "    elif i >= 2 and i < 4:\n",
    "        print(\"you are a toddler.\\n\")\n",
    "    elif i >= 4 and i < 13:\n",
    "        print(\"you are a kid.\\n\")\n",
    "    elif i >= 13 and i < 20:\n",
    "        print(\"you are a teenager.\\n\")\n",
    "    elif i >= 20 and i < 65:\n",
    "        print(\"you are an adult.\\n\")\n",
    "    else:\n",
    "        print(\"You are an elder.\\n\")"
   ]
  },
  {
   "cell_type": "code",
   "execution_count": 149,
   "metadata": {},
   "outputs": [
    {
     "name": "stdout",
     "output_type": "stream",
     "text": [
      "Adding mushrooms.\n",
      "Adding extra cheese.\n",
      "\n",
      "Finished making your pizza!\n"
     ]
    }
   ],
   "source": [
    "requested_toppings = ['mushrooms', 'extra cheese']\n",
    "if 'mushrooms' in requested_toppings:\n",
    "    print(\"Adding mushrooms.\")\n",
    "if 'pepperoni' in requested_toppings:\n",
    "    print(\"Adding pepperoni.\")\n",
    "if 'extra cheese' in requested_toppings:\n",
    "    print(\"Adding extra cheese.\")\n",
    "print(\"\\nFinished making your pizza!\")  "
   ]
  },
  {
   "cell_type": "code",
   "execution_count": 153,
   "metadata": {},
   "outputs": [
    {
     "name": "stdout",
     "output_type": "stream",
     "text": [
      "Adding mushrooms.\n",
      "Sorry, we are out of green peppers right now.\n",
      "Adding extra cheese.\n",
      "\n",
      "Finished making your pizza!\n"
     ]
    }
   ],
   "source": [
    "requested_toppings = ['mushrooms', 'green peppers', 'extra cheese']\n",
    "for requested_topping in requested_toppings:\n",
    "    if requested_topping == 'green peppers':\n",
    "        print(\"Sorry, we are out of green peppers right now.\")\n",
    "    else:\n",
    "        print(\"Adding \" + requested_topping + \".\")\n",
    "print(\"\\nFinished making your pizza!\")"
   ]
  },
  {
   "cell_type": "code",
   "execution_count": 157,
   "metadata": {},
   "outputs": [
    {
     "name": "stdout",
     "output_type": "stream",
     "text": [
      "Adding mushrooms.\n",
      "Sorry, we are out of green peppers right now.\n",
      "Adding extra cheese.\n",
      "\n",
      "Finished making your pizza!\n"
     ]
    }
   ],
   "source": [
    "requested_toppings = ['mushrooms', 'green peppers', 'extra cheese']\n",
    "stock = ['mushrooms', 'extra cheese']\n",
    "for requested_topping in requested_toppings:\n",
    "    if requested_topping not in stock:\n",
    "        print(f\"Sorry, we are out of {requested_topping} right now.\")\n",
    "    else:\n",
    "        print(\"Adding \" + requested_topping + \".\")\n",
    "print(\"\\nFinished making your pizza!\")"
   ]
  },
  {
   "cell_type": "code",
   "execution_count": 80,
   "metadata": {},
   "outputs": [
    {
     "data": {
      "text/plain": [
       "array([7, 4, 8, 5, 7, 3, 7, 8, 5, 4, 8, 8, 3, 6, 5, 2, 8, 6, 2, 5, 1, 6,\n",
       "       9, 1, 3, 7, 4, 9, 3, 5, 3, 7, 5, 9, 7, 2, 4, 9, 2, 9, 5, 2, 4, 7,\n",
       "       8, 3, 1, 4, 2, 8])"
      ]
     },
     "execution_count": 80,
     "metadata": {},
     "output_type": "execute_result"
    }
   ],
   "source": [
    "np.random.seed(42)\n",
    "test1 = np.random.randint(1,10,50)\n",
    "test1"
   ]
  },
  {
   "cell_type": "code",
   "execution_count": 25,
   "metadata": {},
   "outputs": [
    {
     "data": {
      "text/plain": [
       "array([7, 4, 8, 5, 7, 3, 7, 8, 5, 4, 8, 8, 3, 6, 5, 2, 8, 6, 2, 5, 1, 6,\n",
       "       9, 1, 3, 7, 4, 9, 3, 5, 3, 7, 5, 9, 7, 2, 4, 9, 2, 9, 5, 2, 4, 7,\n",
       "       8, 3, 1, 4, 2, 8])"
      ]
     },
     "execution_count": 25,
     "metadata": {},
     "output_type": "execute_result"
    }
   ],
   "source": [
    "test1[test1 == 54] = 1\n",
    "test1"
   ]
  },
  {
   "cell_type": "code",
   "execution_count": 57,
   "metadata": {},
   "outputs": [
    {
     "data": {
      "text/plain": [
       "Text(0.5, 1.0, 'binom distribution')"
      ]
     },
     "execution_count": 57,
     "metadata": {},
     "output_type": "execute_result"
    },
    {
     "data": {
      "image/png": "[encoded data removed]",
      "text/plain": [
       "<Figure size 640x480 with 1 Axes>"
      ]
     },
     "metadata": {},
     "output_type": "display_data"
    }
   ],
   "source": [
    "np.random.seed(42)\n",
    "test_norm = np.random.normal(loc=0, scale=1,size=1000)\n",
    "ax = plt.subplot\n",
    "sns.histplot(test_norm, bins = 100, kde=True)\n",
    "plt.title('binom distribution')"
   ]
  },
  {
   "cell_type": "code",
   "execution_count": null,
   "metadata": {},
   "outputs": [],
   "source": []
  },
  {
   "cell_type": "markdown",
   "metadata": {},
   "source": [
    "# Dictionaries"
   ]
  },
  {
   "cell_type": "code",
   "execution_count": 54,
   "metadata": {},
   "outputs": [
    {
     "name": "stdout",
     "output_type": "stream",
     "text": [
      "yellow\n",
      "5\n"
     ]
    }
   ],
   "source": [
    "alien_0 = {'color':['green', 'yellow'], \n",
    "           'points': 5}\n",
    "print(alien_0['color'][1])\n",
    "print(alien_0['points'])"
   ]
  },
  {
   "cell_type": "code",
   "execution_count": 55,
   "metadata": {},
   "outputs": [
    {
     "name": "stdout",
     "output_type": "stream",
     "text": [
      "{'color': ['green', 'yellow'], 'points': 5, 'x_position': [0, 3, 4, 5], 'y_position': 25}\n"
     ]
    }
   ],
   "source": [
    "x = (0,3,4,5)\n",
    "alien_0['x_position'] = list(x)\n",
    "alien_0['y_position'] = 25\n",
    "print(alien_0)"
   ]
  },
  {
   "cell_type": "code",
   "execution_count": 18,
   "metadata": {},
   "outputs": [
    {
     "name": "stdout",
     "output_type": "stream",
     "text": [
      "color ('green', 'yellow')\n",
      "points 5\n"
     ]
    }
   ],
   "source": [
    "for key, value in alien_0.items():\n",
    "    print(key, value)"
   ]
  },
  {
   "cell_type": "code",
   "execution_count": 210,
   "metadata": {},
   "outputs": [],
   "source": [
    "import numpy as np\n",
    "MSc_Data = {'Luqman' : ['40','12','12'],\n",
    "            'Zuhair' : '20',\n",
    "            'Khalid' : ['40','12','12'],\n",
    "            'Hazim': ['40','12','12'],\n",
    "            'Nazmi' : ['40','12','12']}"
   ]
  },
  {
   "cell_type": "code",
   "execution_count": 27,
   "metadata": {},
   "outputs": [
    {
     "name": "stdout",
     "output_type": "stream",
     "text": [
      "Biotechnologist in DOSM\n"
     ]
    }
   ],
   "source": [
    "print(MSc_Data['Luqman'])"
   ]
  },
  {
   "cell_type": "code",
   "execution_count": 56,
   "metadata": {},
   "outputs": [
    {
     "data": {
      "text/plain": [
       "{'color': ['green', 'yellow'],\n",
       " 'points': 5,\n",
       " 'x_position': [0, 3, 4, 5, 7],\n",
       " 'y_position': 25}"
      ]
     },
     "execution_count": 56,
     "metadata": {},
     "output_type": "execute_result"
    }
   ],
   "source": [
    "alien_0['x_position'].append(7)\n",
    "alien_0"
   ]
  },
  {
   "cell_type": "code",
   "execution_count": 67,
   "metadata": {},
   "outputs": [
    {
     "name": "stdout",
     "output_type": "stream",
     "text": [
      "Jen's favorite language is python.\n",
      "Sarah's favorite language is c.\n",
      "Edward's favorite language is ruby.\n",
      "Phil's favorite language is python.\n"
     ]
    }
   ],
   "source": [
    "favorite_languages = {\n",
    "    'jen' : 'python',\n",
    "    'sarah' : 'c',\n",
    "    'edward' : 'ruby',\n",
    "    'phil' : 'python'\n",
    "}\n",
    "\n",
    "for key, value in favorite_languages.items():\n",
    "    print(f\"{key.title()}'s favorite language is {value}.\")"
   ]
  },
  {
   "cell_type": "code",
   "execution_count": 234,
   "metadata": {},
   "outputs": [
    {
     "name": "stdout",
     "output_type": "stream",
     "text": [
      "Luqman's favourite numbers are:\n",
      "12\n",
      "12\n",
      "40\n",
      "\t\n",
      "Zuhair's favourite numbers are:\n",
      "20\n",
      "\t\n",
      "Khalid's favourite numbers are:\n",
      "12\n",
      "12\n",
      "40\n",
      "\t\n",
      "Hazim's favourite numbers are:\n",
      "12\n",
      "12\n",
      "40\n",
      "\t\n",
      "Nazmi's favourite numbers are:\n",
      "12\n",
      "12\n",
      "40\n",
      "\t\n"
     ]
    }
   ],
   "source": [
    "for key, value in MSc_Data.items():\n",
    "    print(f\"{key.title()}'s favourite numbers are:\")\n",
    "    if isinstance(value, list):\n",
    "        for item in sorted(value):\n",
    "        # print(item)\n",
    "            print(item)\n",
    "    else:\n",
    "        print(value)\n",
    "    print(\"\\t\")"
   ]
  },
  {
   "cell_type": "code",
   "execution_count": 112,
   "metadata": {},
   "outputs": [
    {
     "name": "stdout",
     "output_type": "stream",
     "text": [
      "Luqman\n",
      "Zuhair\n",
      "Khalid\n",
      "Hazim\n",
      "Nazmi\n",
      "\t\n",
      "Luqman\n",
      "Zuhair\n",
      "Khalid\n",
      "Hazim\n",
      "Nazmi\n"
     ]
    }
   ],
   "source": [
    "for i in MSc_Data:\n",
    "    print(i)\n",
    "\n",
    "\n",
    "# Similar to ------------------\n",
    "print(\"\\t\")\n",
    "\n",
    "for i in MSc_Data.keys():\n",
    "    print(i)"
   ]
  },
  {
   "cell_type": "code",
   "execution_count": 114,
   "metadata": {},
   "outputs": [
    {
     "name": "stdout",
     "output_type": "stream",
     "text": [
      "Hazim is compulsory!\n",
      "Khalid is compulsory!\n",
      "Luqman is compulsory!\n",
      "Nazmi is compulsory!\n",
      "Zuhair is compulsory!\n"
     ]
    }
   ],
   "source": [
    "for key in sorted(MSc_Data):\n",
    "    print(f\"{key.title()} is compulsory!\")"
   ]
  },
  {
   "cell_type": "code",
   "execution_count": 115,
   "metadata": {},
   "outputs": [
    {
     "name": "stdout",
     "output_type": "stream",
     "text": [
      "Edward is compulsory!\n",
      "Jen is compulsory!\n",
      "Phil is compulsory!\n",
      "Sarah is compulsory!\n"
     ]
    }
   ],
   "source": [
    "for key in sorted(favorite_languages):\n",
    "    print(f\"{key.title()} is compulsory!\")"
   ]
  },
  {
   "cell_type": "code",
   "execution_count": 4,
   "metadata": {},
   "outputs": [],
   "source": [
    "abc = [1,2,3,4,5]"
   ]
  },
  {
   "cell_type": "code",
   "execution_count": 3,
   "metadata": {},
   "outputs": [
    {
     "ename": "NameError",
     "evalue": "name 'np' is not defined",
     "output_type": "error",
     "traceback": [
      "\u001b[1;31m---------------------------------------------------------------------------\u001b[0m",
      "\u001b[1;31mNameError\u001b[0m                                 Traceback (most recent call last)",
      "Cell \u001b[1;32mIn[3], line 1\u001b[0m\n\u001b[1;32m----> 1\u001b[0m np\u001b[38;5;241m.\u001b[39msum(abc)\n",
      "\u001b[1;31mNameError\u001b[0m: name 'np' is not defined"
     ]
    }
   ],
   "source": [
    "np.sum(abc)"
   ]
  },
  {
   "cell_type": "code",
   "execution_count": null,
   "metadata": {},
   "outputs": [],
   "source": []
  },
  {
   "cell_type": "code",
   "execution_count": 95,
   "metadata": {},
   "outputs": [],
   "source": [
    "abc = (1,2,3,4,5)"
   ]
  },
  {
   "cell_type": "code",
   "execution_count": 96,
   "metadata": {},
   "outputs": [
    {
     "data": {
      "text/plain": [
       "15"
      ]
     },
     "execution_count": 96,
     "metadata": {},
     "output_type": "execute_result"
    }
   ],
   "source": [
    "np.sum(abc)"
   ]
  },
  {
   "cell_type": "code",
   "execution_count": 149,
   "metadata": {},
   "outputs": [],
   "source": [
    "people1 = {'name': ['John', 'Hancock'], 'age': '27', 'sex': 'Male'}\n",
    "people2 = {'name': 'Marie', 'age': '22', 'sex': 'Female'}\n",
    "people3 = {'name': 'Luna', 'age': '24', 'sex': 'Female', 'married': 'No'}\n",
    "people4 = {'name': 'Peter', 'age': '29', 'sex': 'Male', 'married': 'Yes'}\n",
    "peoples = [people1, people2, people3, people4]\n"
   ]
  },
  {
   "cell_type": "code",
   "execution_count": 150,
   "metadata": {},
   "outputs": [
    {
     "name": "stdout",
     "output_type": "stream",
     "text": [
      "['John', 'Hancock'] 27\n",
      "Marie 22\n",
      "Luna 24\n",
      "Peter 29\n"
     ]
    }
   ],
   "source": [
    "for people in peoples:\n",
    "    print(people['name'], people['age'])"
   ]
  },
  {
   "cell_type": "code",
   "execution_count": 153,
   "metadata": {},
   "outputs": [
    {
     "name": "stdout",
     "output_type": "stream",
     "text": [
      "['John', 'Hancock']\n",
      "27\n",
      "Male\n",
      "Marie\n",
      "22\n",
      "Female\n",
      "Luna\n",
      "24\n",
      "Female\n",
      "No\n",
      "Peter\n",
      "29\n",
      "Male\n",
      "Yes\n"
     ]
    }
   ],
   "source": [
    "for people in peoples:\n",
    "    for key, value in people.items():\n",
    "        print(value)"
   ]
  },
  {
   "cell_type": "code",
   "execution_count": 154,
   "metadata": {},
   "outputs": [
    {
     "name": "stdout",
     "output_type": "stream",
     "text": [
      "\n",
      "John info's are:\n",
      "27 years old\n",
      "Male\n",
      "\n",
      "Marie info's are:\n",
      "22 years old\n",
      "Female\n",
      "\n",
      "Luna info's are:\n",
      "24 years old\n",
      "Female\n",
      "Not married\n",
      "\n",
      "Peter info's are:\n",
      "29 years old\n",
      "Male\n",
      "Married\n"
     ]
    }
   ],
   "source": [
    "peoples = {'John': ['27 years old', 'Male'],\n",
    "            'Marie': ['22 years old', 'Female'],\n",
    "            'Luna': ['24 years old', 'Female','Not married'],\n",
    "            'Peter': ['29 years old', 'Male','Married']}\n",
    "for name, info in peoples.items():\n",
    "    print(\"\\n\" + name.title() + \" info's are:\")\n",
    "    for value in info:\n",
    "        print(value)"
   ]
  },
  {
   "cell_type": "code",
   "execution_count": 202,
   "metadata": {},
   "outputs": [
    {
     "name": "stdout",
     "output_type": "stream",
     "text": [
      "John ['27 years old', 'Male']\n",
      "Luna ['24 years old', 'Female', 'Not married']\n",
      "Marie ['22 years old', 'Female']\n",
      "Peter ['29 years old', 'Male', 'Married']\n"
     ]
    }
   ],
   "source": [
    "for key, value in sorted(peoples.items(), key= lambda x:x[0]): #key= lambda value: value[1][0]):\n",
    "    print(key,value)"
   ]
  },
  {
   "cell_type": "code",
   "execution_count": 172,
   "metadata": {},
   "outputs": [
    {
     "name": "stdout",
     "output_type": "stream",
     "text": [
      "66\n",
      "66\n",
      "66\n",
      "66\n"
     ]
    }
   ],
   "source": [
    "for key,value in peoples.items():\n",
    "    print(item)"
   ]
  },
  {
   "cell_type": "code",
   "execution_count": 137,
   "metadata": {},
   "outputs": [],
   "source": [
    "peoples['Marie'].append('Married')"
   ]
  },
  {
   "cell_type": "code",
   "execution_count": 214,
   "metadata": {},
   "outputs": [
    {
     "data": {
      "text/plain": [
       "{'John': ['27 years old', 'Male'],\n",
       " 'Marie': ['22 years old', 'Female'],\n",
       " 'Luna': ['24 years old', 'Female', 'Not married'],\n",
       " 'Peter': ['29 years old', 'Male', 'Married']}"
      ]
     },
     "execution_count": 214,
     "metadata": {},
     "output_type": "execute_result"
    }
   ],
   "source": [
    "peoples"
   ]
  },
  {
   "cell_type": "code",
   "execution_count": 220,
   "metadata": {},
   "outputs": [
    {
     "name": "stdout",
     "output_type": "stream",
     "text": [
      "\n",
      "Albert info's are:\n",
      "Age: 27 years old\n",
      "Sex: Male\n",
      "\n",
      "Enstain info's are:\n",
      "Age: 22 years old\n",
      "Sex: Female\n",
      "\n",
      "Khalid info's are:\n",
      "Age: 23 years old\n"
     ]
    },
    {
     "ename": "KeyError",
     "evalue": "'sex'",
     "output_type": "error",
     "traceback": [
      "\u001b[1;31m---------------------------------------------------------------------------\u001b[0m",
      "\u001b[1;31mKeyError\u001b[0m                                  Traceback (most recent call last)",
      "Cell \u001b[1;32mIn[220], line 10\u001b[0m\n\u001b[0;32m      8\u001b[0m \u001b[38;5;28mprint\u001b[39m(\u001b[38;5;124m\"\u001b[39m\u001b[38;5;130;01m\\n\u001b[39;00m\u001b[38;5;124m\"\u001b[39m \u001b[38;5;241m+\u001b[39m name\u001b[38;5;241m.\u001b[39mtitle() \u001b[38;5;241m+\u001b[39m \u001b[38;5;124m\"\u001b[39m\u001b[38;5;124m info\u001b[39m\u001b[38;5;124m'\u001b[39m\u001b[38;5;124ms are:\u001b[39m\u001b[38;5;124m\"\u001b[39m)\n\u001b[0;32m      9\u001b[0m \u001b[38;5;28mprint\u001b[39m(\u001b[38;5;124m\"\u001b[39m\u001b[38;5;124mAge: \u001b[39m\u001b[38;5;124m\"\u001b[39m \u001b[38;5;241m+\u001b[39m info[\u001b[38;5;124m'\u001b[39m\u001b[38;5;124mage\u001b[39m\u001b[38;5;124m'\u001b[39m] \u001b[38;5;241m+\u001b[39m \u001b[38;5;124m\"\u001b[39m\u001b[38;5;124m years old\u001b[39m\u001b[38;5;124m\"\u001b[39m)\n\u001b[1;32m---> 10\u001b[0m \u001b[38;5;28mprint\u001b[39m(\u001b[38;5;124m\"\u001b[39m\u001b[38;5;124mSex: \u001b[39m\u001b[38;5;124m\"\u001b[39m \u001b[38;5;241m+\u001b[39m info[\u001b[38;5;124m'\u001b[39m\u001b[38;5;124msex\u001b[39m\u001b[38;5;124m'\u001b[39m])\n",
      "\u001b[1;31mKeyError\u001b[0m: 'sex'"
     ]
    }
   ],
   "source": [
    "people = {'Albert': {'age': '27',\n",
    "            'sex': 'Male'},\n",
    "            'Enstain':{'age': '22',\n",
    "            'sex': 'Female'},\n",
    "            'Khalid' :{'age':'23'}\n",
    "            }\n",
    "for name, info in people.items():\n",
    "    print(\"\\n\" + name.title() + \" info's are:\")\n",
    "    print(\"Age: \" + info['age'] + \" years old\")\n",
    "    print(\"Sex: \" + info['sex'])"
   ]
  },
  {
   "cell_type": "code",
   "execution_count": 223,
   "metadata": {},
   "outputs": [
    {
     "data": {
      "text/plain": [
       "'Hathim'"
      ]
     },
     "execution_count": 223,
     "metadata": {},
     "output_type": "execute_result"
    }
   ],
   "source": [
    "input(\"Name :\")"
   ]
  },
  {
   "cell_type": "code",
   "execution_count": 303,
   "metadata": {},
   "outputs": [
    {
     "ename": "ValueError",
     "evalue": "invalid literal for int() with base 10: 'abc'",
     "output_type": "error",
     "traceback": [
      "\u001b[1;31m---------------------------------------------------------------------------\u001b[0m",
      "\u001b[1;31mValueError\u001b[0m                                Traceback (most recent call last)",
      "Cell \u001b[1;32mIn[303], line 3\u001b[0m\n\u001b[0;32m      1\u001b[0m \u001b[38;5;66;03m# flag = True\u001b[39;00m\n\u001b[0;32m      2\u001b[0m age \u001b[38;5;241m=\u001b[39m \u001b[38;5;28minput\u001b[39m(\u001b[38;5;124m\"\u001b[39m\u001b[38;5;124mHow old are you?\u001b[39m\u001b[38;5;124m\"\u001b[39m)\n\u001b[1;32m----> 3\u001b[0m \u001b[38;5;28;01mif\u001b[39;00m \u001b[38;5;28mint\u001b[39m(age) \u001b[38;5;241m==\u001b[39m \u001b[38;5;167;01mSyntaxError\u001b[39;00m:\n\u001b[0;32m      4\u001b[0m     age \u001b[38;5;241m=\u001b[39m \u001b[38;5;28minput\u001b[39m(\u001b[38;5;124m\"\u001b[39m\u001b[38;5;124mINSERT NUMBER!\u001b[39m\u001b[38;5;124m\"\u001b[39m)\n\u001b[0;32m      6\u001b[0m \u001b[38;5;28;01melif\u001b[39;00m \u001b[38;5;28mint\u001b[39m(age) \u001b[38;5;241m!=\u001b[39m \u001b[38;5;167;01mSyntaxError\u001b[39;00m:\n",
      "\u001b[1;31mValueError\u001b[0m: invalid literal for int() with base 10: 'abc'"
     ]
    }
   ],
   "source": [
    "\n",
    "# flag = True\n",
    "age = input(\"How old are you?\")\n",
    "if int(age) == SyntaxError:\n",
    "    age = input(\"INSERT NUMBER!\")\n",
    "\n",
    "elif int(age) != SyntaxError:\n",
    "    age = int(age)\n",
    "    while age < 18:\n",
    "        print(f\"You are {age}, underage!\")\n",
    "        age = int(input(\"Re-enter age.\"))\n",
    "        if age > 18:\n",
    "            print(f\"You are {age}, above 18\")\n",
    "            break\n",
    "else:\n",
    "    print(\"number\")\n",
    "    # continue\n",
    "# while isinstance(age, int):\n"
   ]
  },
  {
   "cell_type": "code",
   "execution_count": 296,
   "metadata": {},
   "outputs": [
    {
     "name": "stdout",
     "output_type": "stream",
     "text": [
      "ko bukan Luqman, ko asd\n",
      "Ha baru betul Luqman\n"
     ]
    }
   ],
   "source": [
    "name = input(\"Who are you?\")\n",
    "while name != 'Luqman':\n",
    "    print(f\"ko bukan Luqman, ko {name}\")\n",
    "    name = input(\"siapa kau sebenarnya?\")\n",
    "print(\"Ha baru betul Luqman\")"
   ]
  },
  {
   "cell_type": "code",
   "execution_count": 249,
   "metadata": {},
   "outputs": [
    {
     "name": "stdout",
     "output_type": "stream",
     "text": [
      "1\n",
      "2\n",
      "3\n"
     ]
    }
   ],
   "source": [
    "i = 1\n",
    "while i < 6:\n",
    "    print(i)\n",
    "    if (i == 3):\n",
    "        break\n",
    "    i += 1"
   ]
  },
  {
   "cell_type": "code",
   "execution_count": 251,
   "metadata": {},
   "outputs": [
    {
     "name": "stdout",
     "output_type": "stream",
     "text": [
      "1\n",
      "2\n",
      "4\n",
      "5\n",
      "6\n"
     ]
    }
   ],
   "source": [
    "i = 0\n",
    "while i < 6:\n",
    "    i += 1\n",
    "    if i == 3:\n",
    "        continue\n",
    "    print(i)"
   ]
  },
  {
   "cell_type": "code",
   "execution_count": 260,
   "metadata": {},
   "outputs": [
    {
     "name": "stdout",
     "output_type": "stream",
     "text": [
      "I'd love to go to Malaysia!\n",
      "I'd love to go to Pakistan!\n"
     ]
    }
   ],
   "source": [
    "prompt = '''\n",
    "Please enter the name of a city you have visited:\n",
    "(Enter \"quit\" when you are finished)\n",
    "'''\n",
    "\n",
    "while True:\n",
    "    city = input(prompt)\n",
    "\n",
    "    if city == 'quit':\n",
    "        break\n",
    "    else:\n",
    "        print(f\"I'd love to go to {city.title()}!\")"
   ]
  },
  {
   "cell_type": "code",
   "execution_count": 267,
   "metadata": {},
   "outputs": [],
   "source": [
    "prompt = '''\n",
    "Please enter the name of a city you have visited:\n",
    "(Enter \"quit\" when you are finished)\n",
    "'''\n",
    "active = True\n",
    "while active:\n",
    "    city = input(prompt)\n",
    "\n",
    "    if city == 'quit':\n",
    "        active = False\n",
    "    else:\n",
    "        print(f\"I'd love to go to {city.title()}!\")"
   ]
  },
  {
   "cell_type": "code",
   "execution_count": null,
   "metadata": {},
   "outputs": [],
   "source": []
  }
 ],
 "metadata": {
  "kernelspec": {
   "display_name": "Scholarly",
   "language": "python",
   "name": "python3"
  },
  "language_info": {
   "codemirror_mode": {
    "name": "ipython",
    "version": 3
   },
   "file_extension": ".py",
   "mimetype": "text/x-python",
   "name": "python",
   "nbconvert_exporter": "python",
   "pygments_lexer": "ipython3",
   "version": "3.12.5"
  }
 },
 "nbformat": 4,
 "nbformat_minor": 2
}
