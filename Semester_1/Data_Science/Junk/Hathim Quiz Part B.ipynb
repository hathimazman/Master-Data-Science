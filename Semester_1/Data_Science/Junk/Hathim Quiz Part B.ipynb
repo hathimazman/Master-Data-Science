{
 "cells": [
  {
   "cell_type": "markdown",
   "metadata": {},
   "source": [
    "# Question 1\n",
    "## Write a python codes to accept number from the user and display the grade according to the following criteria\n",
    "\n",
    "**Marks**   |   **Grade**   \n",
    "---| --- |\n",
    "More than 90   |   A   |\n",
    "From 80 to 90  |   B   |\n",
    "At least 60 but less than 80  | C\n",
    "Below 60  | D"
   ]
  },
  {
   "cell_type": "code",
   "execution_count": 10,
   "metadata": {},
   "outputs": [
    {
     "name": "stdout",
     "output_type": "stream",
     "text": [
      "91, Grade A\n"
     ]
    }
   ],
   "source": [
    "score = int(input(\"Input the score\"))\n",
    "def grading(score):\n",
    "    if score > 90:\n",
    "        print(f\"{score}, Grade A\")\n",
    "    elif score >= 80 and score <= 90:\n",
    "        print(f\"{score}, Grade B\")\n",
    "    elif score >= 60 and score < 80:\n",
    "        print(f\"{score}, Grade C\")\n",
    "    else:\n",
    "        print(f\"{score}, Grade D\")\n",
    "\n",
    "grading(score)"
   ]
  },
  {
   "cell_type": "markdown",
   "metadata": {},
   "source": [
    "# Question 2\n",
    "## Create a dictionary containing the name and dream vacation destinations of five persons. Note that the dream vacation for each person is unique. Then, print the dicitonary"
   ]
  },
  {
   "cell_type": "code",
   "execution_count": 61,
   "metadata": {},
   "outputs": [
    {
     "name": "stdout",
     "output_type": "stream",
     "text": [
      "{'Luqman': 'Bali', 'Hazim': 'Paris', 'Nazmi': 'Japan', 'Khalid': 'Switzerland', 'Zuhair': 'New Zealand'}\n"
     ]
    }
   ],
   "source": [
    "dream_vacation = {\n",
    "    'Luqman' : \"Bali\",\n",
    "    \"Hazim\" : \"Paris\",\n",
    "    \"Nazmi\" : \"Japan\",\n",
    "    \"Khalid\" : \"Switzerland\",\n",
    "    \"Zuhair\" : \"New Zealand\"\n",
    "}\n",
    "print(dream_vacation)"
   ]
  },
  {
   "cell_type": "markdown",
   "metadata": {},
   "source": [
    "## Using the dictionary from (a), use a loop to print the sentences about the persons and its associated dream vacation destination"
   ]
  },
  {
   "cell_type": "code",
   "execution_count": 62,
   "metadata": {},
   "outputs": [
    {
     "name": "stdout",
     "output_type": "stream",
     "text": [
      "Luqman dream vacation is Bali\n",
      "Hazim dream vacation is Paris\n",
      "Nazmi dream vacation is Japan\n",
      "Khalid dream vacation is Switzerland\n",
      "Zuhair dream vacation is New Zealand\n"
     ]
    }
   ],
   "source": [
    "for person, place in dream_vacation.items():\n",
    "    print(f\"{person} dream vacation is {place}\")"
   ]
  },
  {
   "cell_type": "markdown",
   "metadata": {},
   "source": [
    "## Compile all the dream vacation destinations in a list named dream_location"
   ]
  },
  {
   "cell_type": "code",
   "execution_count": 63,
   "metadata": {},
   "outputs": [
    {
     "data": {
      "text/plain": [
       "['Bali', 'Paris', 'Japan', 'Switzerland', 'New Zealand']"
      ]
     },
     "execution_count": 63,
     "metadata": {},
     "output_type": "execute_result"
    }
   ],
   "source": [
    "dream_location = []\n",
    "for location in dream_vacation.values():\n",
    "    dream_location.append(location)\n",
    "\n",
    "dream_location"
   ]
  },
  {
   "cell_type": "markdown",
   "metadata": {},
   "source": [
    "# Question 3\n",
    "## Create a program that poll users about their ambition"
   ]
  },
  {
   "cell_type": "code",
   "execution_count": 3,
   "metadata": {},
   "outputs": [
    {
     "name": "stdout",
     "output_type": "stream",
     "text": [
      "{'Hathim': 'Data Scientist', 'Luqman': 'Data Analyst', 'Zuhair': 'Data Engineer'}\n"
     ]
    }
   ],
   "source": [
    "data = {}\n",
    "\n",
    "for i in range(3):\n",
    "    name = input(\"What is your name?\")\n",
    "    job = input(\"What is your dream job?\")\n",
    "    data[name] = job\n",
    "print(data)"
   ]
  },
  {
   "cell_type": "markdown",
   "metadata": {},
   "source": [
    "# Question 4\n",
    "## Using while loop, create a program that allows user to guess a secret number between 10 and 50. It should keep prompting the user until they guess the correct number."
   ]
  },
  {
   "cell_type": "code",
   "execution_count": 66,
   "metadata": {},
   "outputs": [
    {
     "name": "stdout",
     "output_type": "stream",
     "text": [
      "23, try again!\n",
      "23, try again!\n",
      "24, try again!\n",
      "Please enter a number between 10-50\n",
      "11, try again!\n",
      "13, try again!\n",
      "23, try again!\n",
      "23, try again!\n",
      "45! You got it!\n"
     ]
    }
   ],
   "source": [
    "secret_number = 45\n",
    "while True:\n",
    "    guess = int(input(\"Guess the number between 10-50\"))\n",
    "    if guess <10 or guess > 50:\n",
    "        print(\"Please enter a number between 10-50\")\n",
    "    else:\n",
    "        if guess == secret_number:\n",
    "            print(f\"{guess}! You got it!\")\n",
    "            break\n",
    "        else:\n",
    "            print(f\"{guess}, try again!\")"
   ]
  },
  {
   "cell_type": "markdown",
   "metadata": {},
   "source": [
    "# Question 5\n",
    "## Write a function called describe_fruits() that accepts fruit's name and its color. The function should print sentences describing the fruits."
   ]
  },
  {
   "cell_type": "code",
   "execution_count": 2,
   "metadata": {},
   "outputs": [
    {
     "name": "stdout",
     "output_type": "stream",
     "text": [
      "It is a Apple\n",
      "It is Red\n",
      "The Apple is Red\n"
     ]
    }
   ],
   "source": [
    "def describe_fruits(name, color):\n",
    "    print(f\"It is a {name}\")\n",
    "    print(f\"It is {color}\")\n",
    "    print(f\"The {name} is {color}\")\n",
    "\n",
    "describe_fruits(\"Apple\", \"Red\")"
   ]
  }
 ],
 "metadata": {
  "kernelspec": {
   "display_name": "base",
   "language": "python",
   "name": "python3"
  },
  "language_info": {
   "codemirror_mode": {
    "name": "ipython",
    "version": 3
   },
   "file_extension": ".py",
   "mimetype": "text/x-python",
   "name": "python",
   "nbconvert_exporter": "python",
   "pygments_lexer": "ipython3",
   "version": "3.12.4"
  }
 },
 "nbformat": 4,
 "nbformat_minor": 2
}
