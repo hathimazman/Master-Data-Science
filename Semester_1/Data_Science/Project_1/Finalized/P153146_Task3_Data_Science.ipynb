{
 "cells": [
  {
   "cell_type": "markdown",
   "metadata": {},
   "source": [
    "<div style=\"text-align: center;\">\n",
    "    <h1>Project 1 - Part 3</h1>\n",
    "    <h2>STQD6014 Data Science</h2>\n",
    "    <h3>Student Name: Ahmad Hathim Ahmad Azman</h3>\n",
    "    <h3>Student Number: P153146</h3>\n",
    "</div>"
   ]
  },
  {
   "cell_type": "markdown",
   "metadata": {},
   "source": [
    "**For this task, you have to use class and save it as a module. Create  scenario involving function, class and inheritance.**\n",
    "1. Write the introduction of your scenario.\n",
    "2. Write a program using python class, function and inheritance for the chosen scenario above.\n",
    "3. Test your program by creating five instances of each parent and child class and print the info related.\n",
    "4. Write the explanation of the program created above.\n",
    "5. Provide your conclusion.\n",
    "\n",
    "Write the item number 1, 4 and 5 in essay form. Your essay should be at least two pages long using times new roman, font 12 and spacing 1.5 excluding the Python codes.\n"
   ]
  },
  {
   "cell_type": "code",
   "execution_count": 1,
   "metadata": {},
   "outputs": [],
   "source": [
    "from task3 import LungDisease, InfectiousDisease, NonInfectiousDisease, Malignancy"
   ]
  },
  {
   "cell_type": "markdown",
   "metadata": {},
   "source": [
    "## Parent Class"
   ]
  },
  {
   "cell_type": "code",
   "execution_count": 2,
   "metadata": {},
   "outputs": [
    {
     "name": "stdout",
     "output_type": "stream",
     "text": [
      "Disease Information: \n",
      "\n",
      "Name: Pneumonia\n",
      "Category: Lung Disease\n",
      "\n"
     ]
    }
   ],
   "source": [
    "pneumonia = LungDisease(\"Pneumonia\")\n",
    "print(pneumonia.get_info())"
   ]
  },
  {
   "cell_type": "code",
   "execution_count": 3,
   "metadata": {},
   "outputs": [
    {
     "name": "stdout",
     "output_type": "stream",
     "text": [
      "Disease Information: \n",
      "\n",
      "Name: Chronic Obstructive Pulmonary Disease\n",
      "Category: Lung Disease\n",
      "\n"
     ]
    }
   ],
   "source": [
    "COPD = LungDisease(\"Chronic Obstructive Pulmonary Disease\")\n",
    "print(COPD.get_info())"
   ]
  },
  {
   "cell_type": "code",
   "execution_count": 4,
   "metadata": {},
   "outputs": [
    {
     "name": "stdout",
     "output_type": "stream",
     "text": [
      "Disease Information: \n",
      "\n",
      "Name: Lung Cancer\n",
      "Category: Lung Disease\n",
      "\n"
     ]
    }
   ],
   "source": [
    "LungCancer = LungDisease(\"Lung Cancer\")\n",
    "print(LungCancer.get_info())"
   ]
  },
  {
   "cell_type": "code",
   "execution_count": 5,
   "metadata": {},
   "outputs": [
    {
     "name": "stdout",
     "output_type": "stream",
     "text": [
      "Disease Information: \n",
      "\n",
      "Name: Acute Respiratory Distress Syndrome\n",
      "Category: Lung Disease\n",
      "\n"
     ]
    }
   ],
   "source": [
    "ARDS = LungDisease(\"Acute Respiratory Distress Syndrome\")\n",
    "print(ARDS.get_info())"
   ]
  },
  {
   "cell_type": "code",
   "execution_count": 6,
   "metadata": {},
   "outputs": [
    {
     "name": "stdout",
     "output_type": "stream",
     "text": [
      "Disease Information: \n",
      "\n",
      "Name: Squamous Cell Carcinoma\n",
      "Category: Lung Disease\n",
      "\n"
     ]
    }
   ],
   "source": [
    "SCC = LungDisease(\"Squamous Cell Carcinoma\")\n",
    "print(SCC.get_info())"
   ]
  },
  {
   "cell_type": "markdown",
   "metadata": {},
   "source": [
    "## First Child Class Infectious Lung Disease"
   ]
  },
  {
   "cell_type": "code",
   "execution_count": 7,
   "metadata": {},
   "outputs": [
    {
     "name": "stdout",
     "output_type": "stream",
     "text": [
      "Disease Information: \n",
      "\n",
      "Name: Pneumonia\n",
      "Category: Lung Disease\n",
      "\n",
      "Sub-category: Infectious Disease\n",
      "Pathogen Type: Bacteria\n",
      "Severity : Severe\n",
      "Contagious: Yes\n"
     ]
    }
   ],
   "source": [
    "pneumonia2 = InfectiousDisease(\"Pneumonia\", \"Severe\", \"Bacteria\", True)\n",
    "print(pneumonia2.get_info())"
   ]
  },
  {
   "cell_type": "code",
   "execution_count": 8,
   "metadata": {},
   "outputs": [
    {
     "name": "stdout",
     "output_type": "stream",
     "text": [
      "Pneumonia is a disease infected by Bacteria\n"
     ]
    }
   ],
   "source": [
    "print(pneumonia2.get_pathogen_type())"
   ]
  },
  {
   "cell_type": "code",
   "execution_count": 9,
   "metadata": {},
   "outputs": [
    {
     "name": "stdout",
     "output_type": "stream",
     "text": [
      "Disease Information: \n",
      "\n",
      "Name: COVID-19\n",
      "Category: Lung Disease\n",
      "\n",
      "Sub-category: Infectious Disease\n",
      "Pathogen Type: Virus\n",
      "Severity : Severe\n",
      "Contagious: Yes\n"
     ]
    }
   ],
   "source": [
    "covid = InfectiousDisease(\"COVID-19\", \"Severe\", \"Virus\", True)\n",
    "print(covid.get_info())"
   ]
  },
  {
   "cell_type": "code",
   "execution_count": 10,
   "metadata": {},
   "outputs": [
    {
     "name": "stdout",
     "output_type": "stream",
     "text": [
      "Disease Information: \n",
      "\n",
      "Name: Viral Pneumonia\n",
      "Category: Lung Disease\n",
      "\n",
      "Sub-category: Infectious Disease\n",
      "Pathogen Type: Virus\n",
      "Severity : Severe\n",
      "Contagious: Yes\n"
     ]
    }
   ],
   "source": [
    "viral_pneumonia = InfectiousDisease(\"Viral Pneumonia\", \"Severe\", \"Virus\", True)\n",
    "print(viral_pneumonia.get_info())"
   ]
  },
  {
   "cell_type": "code",
   "execution_count": 11,
   "metadata": {},
   "outputs": [
    {
     "name": "stdout",
     "output_type": "stream",
     "text": [
      "Disease Information: \n",
      "\n",
      "Name: Tuberculosis\n",
      "Category: Lung Disease\n",
      "\n",
      "Sub-category: Infectious Disease\n",
      "Pathogen Type: Bacteria\n",
      "Severity : Severe\n",
      "Contagious: Yes\n"
     ]
    }
   ],
   "source": [
    "tuberculosis = InfectiousDisease(\"Tuberculosis\", \"Severe\", \"Bacteria\", True)\n",
    "print(tuberculosis.get_info())"
   ]
  },
  {
   "cell_type": "code",
   "execution_count": 12,
   "metadata": {},
   "outputs": [
    {
     "name": "stdout",
     "output_type": "stream",
     "text": [
      "Disease Information: \n",
      "\n",
      "Name: RSV Pneumonia\n",
      "Category: Lung Disease\n",
      "\n",
      "Sub-category: Infectious Disease\n",
      "Pathogen Type: Virus\n",
      "Severity : Severe\n",
      "Contagious: Yes\n"
     ]
    }
   ],
   "source": [
    "RSV_pneumonia = InfectiousDisease(\"RSV Pneumonia\", \"Severe\", \"Virus\", True)\n",
    "print(RSV_pneumonia.get_info())"
   ]
  },
  {
   "cell_type": "markdown",
   "metadata": {},
   "source": [
    "## Second Child Class Non - Infectious Lung Disease"
   ]
  },
  {
   "cell_type": "code",
   "execution_count": 13,
   "metadata": {},
   "outputs": [
    {
     "name": "stdout",
     "output_type": "stream",
     "text": [
      "Disease Information: \n",
      "\n",
      "Name: COPD\n",
      "Category: Lung Disease\n",
      "\n",
      "Sub-category: Non-Infectious Disease\n",
      "Severity : Moderate\n",
      "Chronic Condition: Yes\n"
     ]
    }
   ],
   "source": [
    "COPD = NonInfectiousDisease(\"COPD\", \"Moderate\", True)\n",
    "print(COPD.get_info())"
   ]
  },
  {
   "cell_type": "code",
   "execution_count": 14,
   "metadata": {},
   "outputs": [
    {
     "data": {
      "text/plain": [
       "True"
      ]
     },
     "execution_count": 14,
     "metadata": {},
     "output_type": "execute_result"
    }
   ],
   "source": [
    "COPD.get_chronic_condition()"
   ]
  },
  {
   "cell_type": "code",
   "execution_count": 15,
   "metadata": {},
   "outputs": [
    {
     "name": "stdout",
     "output_type": "stream",
     "text": [
      "Disease Information: \n",
      "\n",
      "Name: Bronchial Asthma\n",
      "Category: Lung Disease\n",
      "\n",
      "Sub-category: Non-Infectious Disease\n",
      "Severity : Mild\n",
      "Chronic Condition: Yes\n"
     ]
    }
   ],
   "source": [
    "BA = NonInfectiousDisease(\"Bronchial Asthma\", \"Mild\", True)\n",
    "print(BA.get_info())"
   ]
  },
  {
   "cell_type": "code",
   "execution_count": 16,
   "metadata": {},
   "outputs": [
    {
     "name": "stdout",
     "output_type": "stream",
     "text": [
      "Disease Information: \n",
      "\n",
      "Name: Acute Respiratory Distress Syndrome\n",
      "Category: Lung Disease\n",
      "\n",
      "Sub-category: Non-Infectious Disease\n",
      "Severity : Severe\n",
      "Chronic Condition: Yes\n"
     ]
    }
   ],
   "source": [
    "ARDS = NonInfectiousDisease(\"Acute Respiratory Distress Syndrome\", \"Severe\", True)\n",
    "print(ARDS.get_info())"
   ]
  },
  {
   "cell_type": "code",
   "execution_count": 17,
   "metadata": {},
   "outputs": [
    {
     "name": "stdout",
     "output_type": "stream",
     "text": [
      "Disease Information: \n",
      "\n",
      "Name: Interstitial Edema\n",
      "Category: Lung Disease\n",
      "\n",
      "Sub-category: Non-Infectious Disease\n",
      "Severity : Moderate\n",
      "Chronic Condition: Yes\n"
     ]
    }
   ],
   "source": [
    "Intestitial_edema = NonInfectiousDisease(\"Interstitial Edema\", \"Moderate\", True)\n",
    "print(Intestitial_edema.get_info())"
   ]
  },
  {
   "cell_type": "code",
   "execution_count": 18,
   "metadata": {},
   "outputs": [
    {
     "name": "stdout",
     "output_type": "stream",
     "text": [
      "Disease Information: \n",
      "\n",
      "Name: Bronchiectasis\n",
      "Category: Lung Disease\n",
      "\n",
      "Sub-category: Non-Infectious Disease\n",
      "Severity : Moderate\n",
      "Chronic Condition: Yes\n"
     ]
    }
   ],
   "source": [
    "Bronchiectasis = NonInfectiousDisease(\"Bronchiectasis\", \"Moderate\", True)\n",
    "print(Bronchiectasis.get_info())"
   ]
  },
  {
   "cell_type": "markdown",
   "metadata": {},
   "source": [
    "## Third Child Class Malignancy"
   ]
  },
  {
   "cell_type": "code",
   "execution_count": 19,
   "metadata": {},
   "outputs": [
    {
     "name": "stdout",
     "output_type": "stream",
     "text": [
      "Disease Information: \n",
      "\n",
      "Name: Adenocarcinoma\n",
      "Category: Lung Disease\n",
      "\n",
      "Sub-category: Malignancy\n",
      "Severity : Severe\n",
      "Cancer Stage: 4\n",
      "Metastasis: Present\n"
     ]
    }
   ],
   "source": [
    "Adenocarcinoma = Malignancy(\"Adenocarcinoma\", \"Severe\", 4, True)\n",
    "print(Adenocarcinoma.get_info())"
   ]
  },
  {
   "cell_type": "code",
   "execution_count": 20,
   "metadata": {},
   "outputs": [
    {
     "data": {
      "text/plain": [
       "'Adenocarcinoma is a stage 4 cancer with metastasis and has a poor prognosis'"
      ]
     },
     "execution_count": 20,
     "metadata": {},
     "output_type": "execute_result"
    }
   ],
   "source": [
    "Adenocarcinoma.prognosis()"
   ]
  },
  {
   "cell_type": "code",
   "execution_count": 21,
   "metadata": {},
   "outputs": [
    {
     "name": "stdout",
     "output_type": "stream",
     "text": [
      "Disease Information: \n",
      "\n",
      "Name: Pancoast Tumor\n",
      "Category: Lung Disease\n",
      "\n",
      "Sub-category: Malignancy\n",
      "Severity : Severe\n",
      "Cancer Stage: 3\n",
      "Metastasis: Present\n"
     ]
    }
   ],
   "source": [
    "pancoast_tumor = Malignancy(\"Pancoast Tumor\", \"Severe\", 3, True)\n",
    "print(pancoast_tumor.get_info())"
   ]
  },
  {
   "cell_type": "code",
   "execution_count": 22,
   "metadata": {},
   "outputs": [
    {
     "name": "stdout",
     "output_type": "stream",
     "text": [
      "Disease Information: \n",
      "\n",
      "Name: Small Cell Lung Cancer\n",
      "Category: Lung Disease\n",
      "\n",
      "Sub-category: Malignancy\n",
      "Severity : Moderate\n",
      "Cancer Stage: 2\n",
      "Metastasis: Present\n"
     ]
    }
   ],
   "source": [
    "SCLC = Malignancy(\"Small Cell Lung Cancer\", \"Moderate\", 2, True)\n",
    "print(SCLC.get_info())"
   ]
  },
  {
   "cell_type": "code",
   "execution_count": 23,
   "metadata": {},
   "outputs": [
    {
     "name": "stdout",
     "output_type": "stream",
     "text": [
      "Disease Information: \n",
      "\n",
      "Name: Mesothelioma\n",
      "Category: Lung Disease\n",
      "\n",
      "Sub-category: Malignancy\n",
      "Severity : Severe\n",
      "Cancer Stage: 4\n",
      "Metastasis: Present\n"
     ]
    }
   ],
   "source": [
    "Mesothelioma = Malignancy(\"Mesothelioma\", \"Severe\", 4, True)\n",
    "print(Mesothelioma.get_info())"
   ]
  },
  {
   "cell_type": "code",
   "execution_count": 24,
   "metadata": {},
   "outputs": [
    {
     "name": "stdout",
     "output_type": "stream",
     "text": [
      "Disease Information: \n",
      "\n",
      "Name: Lung Nodules\n",
      "Category: Lung Disease\n",
      "\n",
      "Sub-category: Malignancy\n",
      "Severity : Mild\n",
      "Cancer Stage: 1\n",
      "Metastasis: Absent\n"
     ]
    }
   ],
   "source": [
    "LungNodules = Malignancy(\"Lung Nodules\", \"Mild\", 1, False)\n",
    "print(LungNodules.get_info())"
   ]
  }
 ],
 "metadata": {
  "kernelspec": {
   "display_name": "Scholarly",
   "language": "python",
   "name": "python3"
  },
  "language_info": {
   "codemirror_mode": {
    "name": "ipython",
    "version": 3
   },
   "file_extension": ".py",
   "mimetype": "text/x-python",
   "name": "python",
   "nbconvert_exporter": "python",
   "pygments_lexer": "ipython3",
   "version": "3.12.5"
  }
 },
 "nbformat": 4,
 "nbformat_minor": 2
}
