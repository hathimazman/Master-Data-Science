{
 "cells": [
  {
   "cell_type": "markdown",
   "metadata": {},
   "source": [
    "<div style=\"text-align: center;\">\n",
    "    <h1>Project 1</h1>\n",
    "    <h2>STQD6014 Data Science</h2>\n",
    "    <h3>Student Name: Ahmad Hathim Ahmad Azman</h3>\n",
    "    <h3>Student Number: P153146</h3>\n",
    "</div>"
   ]
  },
  {
   "cell_type": "markdown",
   "metadata": {},
   "source": [
    "**Create two arrays each of sizes: single 1d array, 3x3, 2x4, 4x2 and 5x5. Hence, you will have ten arrays all together and these arrays must be generated via random number. Name your arrays in order from A to J.**\n",
    "\n",
    "*Using numpy library: perform at least twenty (20) functions from Table 4-3, Table 4-4, Table 4-5 and Table 4-7 from Python for Data Analysis book.*\n",
    "\n",
    "You must:\n",
    "1. Perform operation on single array\n",
    "2. Perform operation on two arrays of same size (eg. multiplication, etc.)\n",
    "3. Perform operation on two arrays of different size (eg. dot product between array of size 2x4 and 4x2\n",
    "\n",
    "Note: you must include all arrays created.\n"
   ]
  },
  {
   "cell_type": "code",
   "execution_count": 326,
   "metadata": {},
   "outputs": [],
   "source": [
    "import numpy as np\n",
    "import pandas as pd\n",
    "import random\n",
    "\n",
    "import warnings\n",
    "warnings.filterwarnings('ignore')\n",
    "np.random.seed(52)"
   ]
  },
  {
   "cell_type": "code",
   "execution_count": 327,
   "metadata": {},
   "outputs": [],
   "source": [
    "# 1d array\n",
    "A = np.random.rand(15)\n",
    "B = np.random.rand(15)\n",
    "\n",
    "# 3x3 array\n",
    "C = np.random.rand(3, 3)\n",
    "D = np.random.rand(3, 3)\n",
    "\n",
    "# 2x4 array\n",
    "E = np.random.rand(2, 4)\n",
    "F = np.random.rand(2, 4)\n",
    "\n",
    "# 4x2 array\n",
    "G = np.random.rand(4, 2)\n",
    "H = np.random.rand(4, 2)\n",
    "\n",
    "# 5x5 array\n",
    "I = np.random.rand(5, 5)\n",
    "J = np.random.rand(5, 5)\n",
    "\n",
    "total_array_list = [A, B, C, D, E, F, G, H, I, J]\n",
    "diff_size1 = [C, E, G, I]\n",
    "diff_size2 = [D, F, H, J]\n",
    "can_multiply1 = [E, G]\n",
    "can_multiply2 = [F, H]\n",
    "one_d = [A, B]\n",
    "three_by_three = [C, D]\n",
    "two_by_four = [E, F]\n",
    "four_by_two = [G, H]\n",
    "five_by_five = [I, J]"
   ]
  },
  {
   "cell_type": "code",
   "execution_count": 328,
   "metadata": {},
   "outputs": [
    {
     "name": "stdout",
     "output_type": "stream",
     "text": [
      "array (15,)\n",
      "[0.74216077 0.26062796 0.34668829 0.47722608 0.66817015 0.28129537\n",
      " 0.70400133 0.88536344 0.3433904  0.85130998 0.50986597 0.54422691\n",
      " 0.80772018 0.57332744 0.21377624]\n",
      "\n",
      "array (15,)\n",
      "[1.44527526e-04 7.12015627e-01 1.04141511e-01 5.57474230e-01\n",
      " 9.57611702e-01 3.75789341e-01 5.11682945e-01 4.62529111e-01\n",
      " 9.55985411e-01 3.47329261e-01 1.33560270e-01 9.83509426e-01\n",
      " 3.71402787e-02 6.30040325e-01 3.36711995e-01]\n",
      "\n",
      "array (3, 3)\n",
      "[[0.6839525  0.81509105 0.74432428]\n",
      " [0.95321702 0.60157791 0.53808659]\n",
      " [0.91585076 0.62939159 0.74276137]]\n",
      "\n",
      "array (3, 3)\n",
      "[[0.38465033 0.67042276 0.05905943]\n",
      " [0.82588942 0.48237128 0.36190692]\n",
      " [0.19513155 0.63085626 0.51215883]]\n",
      "\n",
      "array (2, 4)\n",
      "[[0.93292292 0.15923918 0.7294912  0.28392443]\n",
      " [0.7662561  0.61736128 0.76324449 0.76224293]]\n",
      "\n",
      "array (2, 4)\n",
      "[[0.29530824 0.63140388 0.71517238 0.01429599]\n",
      " [0.04382331 0.45662417 0.11148771 0.73971496]]\n",
      "\n",
      "array (4, 2)\n",
      "[[0.98810487 0.44324901]\n",
      " [0.98650219 0.46501372]\n",
      " [0.49613857 0.19190942]\n",
      " [0.61166523 0.5569498 ]]\n",
      "\n",
      "array (4, 2)\n",
      "[[0.52739643 0.40591498]\n",
      " [0.49473004 0.01645923]\n",
      " [0.91620788 0.73865995]\n",
      " [0.56735438 0.36434938]]\n",
      "\n",
      "array (5, 5)\n",
      "[[0.04408027 0.66044059 0.54274338 0.21153807 0.57298749]\n",
      " [0.78948565 0.38256771 0.92841472 0.08025323 0.74962559]\n",
      " [0.93462497 0.86222701 0.33636864 0.71397951 0.03404237]\n",
      " [0.00670276 0.65446571 0.24323253 0.89405892 0.36203951]\n",
      " [0.32919827 0.49590585 0.70347713 0.7413158  0.45407739]]\n",
      "\n",
      "array (5, 5)\n",
      "[[0.00477671 0.24451052 0.03299936 0.98077523 0.05479069]\n",
      " [0.09226481 0.88185526 0.75642558 0.90466794 0.16071985]\n",
      " [0.49043465 0.97900532 0.98253547 0.15614228 0.52917742]\n",
      " [0.37078694 0.86249094 0.05966975 0.56887294 0.18678231]\n",
      " [0.96113985 0.48086309 0.54252338 0.41848394 0.02461295]]\n",
      "\n"
     ]
    }
   ],
   "source": [
    "for i in array_list:\n",
    "    print(f\"array {i.shape}\\n{i}\\n\")"
   ]
  },
  {
   "cell_type": "markdown",
   "metadata": {},
   "source": [
    "# Unary Functions"
   ]
  },
  {
   "cell_type": "code",
   "execution_count": 329,
   "metadata": {},
   "outputs": [
    {
     "data": {
      "text/plain": [
       "array([0.82311034, 0.02611798, 0.21077064, 0.61842177, 0.09828447,\n",
       "       0.62013131, 0.05389022, 0.96065406, 0.98042937, 0.52112765,\n",
       "       0.63655334, 0.76475695, 0.76495529, 0.41768558, 0.76880531])"
      ]
     },
     "execution_count": 329,
     "metadata": {},
     "output_type": "execute_result"
    }
   ],
   "source": [
    "np.abs(A)"
   ]
  },
  {
   "cell_type": "code",
   "execution_count": 330,
   "metadata": {},
   "outputs": [
    {
     "data": {
      "text/plain": [
       "array([[0.71457416, 0.89227773, 0.66736609],\n",
       "       [0.86201329, 0.28062265, 0.69831602],\n",
       "       [0.65908167, 0.49604228, 0.92824604]])"
      ]
     },
     "execution_count": 330,
     "metadata": {},
     "output_type": "execute_result"
    }
   ],
   "source": [
    "np.sqrt(C)"
   ]
  },
  {
   "cell_type": "code",
   "execution_count": 331,
   "metadata": {},
   "outputs": [
    {
     "data": {
      "text/plain": [
       "array([[0.6199756 , 0.44214395, 0.51869405, 0.2907963 ],\n",
       "       [0.2227344 , 0.81123798, 0.14025962, 0.27855853]])"
      ]
     },
     "execution_count": 331,
     "metadata": {},
     "output_type": "execute_result"
    }
   ],
   "source": [
    "np.square(E)"
   ]
  },
  {
   "cell_type": "code",
   "execution_count": 332,
   "metadata": {},
   "outputs": [
    {
     "data": {
      "text/plain": [
       "array([[2.4379999 , 1.37758671],\n",
       "       [1.99376807, 1.06063531],\n",
       "       [1.22358352, 2.06073305],\n",
       "       [2.1212593 , 1.34363836]])"
      ]
     },
     "execution_count": 332,
     "metadata": {},
     "output_type": "execute_result"
    }
   ],
   "source": [
    "np.exp(G)"
   ]
  },
  {
   "cell_type": "code",
   "execution_count": 333,
   "metadata": {},
   "outputs": [
    {
     "data": {
      "text/plain": [
       "array([[-0.76536318, -0.15650901, -0.01573633, -0.73871466, -0.62230787],\n",
       "       [-0.24563896, -0.20478159, -1.92651354, -1.06935549, -0.36295188],\n",
       "       [-1.67014709, -0.78652491, -0.03002314, -0.00567026, -0.28700446],\n",
       "       [-0.66886657, -0.66403054, -2.67115721, -0.02924102, -0.04623201],\n",
       "       [-0.24844045, -0.16429152, -0.91787773, -0.22699614, -4.03584659]])"
      ]
     },
     "execution_count": 333,
     "metadata": {},
     "output_type": "execute_result"
    }
   ],
   "source": [
    "np.log(I)"
   ]
  },
  {
   "cell_type": "markdown",
   "metadata": {},
   "source": [
    "# Binary Universal Functions"
   ]
  },
  {
   "cell_type": "code",
   "execution_count": 334,
   "metadata": {},
   "outputs": [
    {
     "data": {
      "text/plain": [
       "array([5.82311034, 5.02611798, 5.21077064, 5.61842177, 5.09828447,\n",
       "       5.62013131, 5.05389022, 5.96065406, 5.98042937, 5.52112765,\n",
       "       5.63655334, 5.76475695, 5.76495529, 5.41768558, 5.76880531])"
      ]
     },
     "execution_count": 334,
     "metadata": {},
     "output_type": "execute_result"
    }
   ],
   "source": [
    "np.add(A,5)"
   ]
  },
  {
   "cell_type": "code",
   "execution_count": 335,
   "metadata": {},
   "outputs": [
    {
     "data": {
      "text/plain": [
       "array([[-7.97997744, -7.54917329, -7.95257713],\n",
       "       [-7.5022725 , -7.141226  , -7.66518434],\n",
       "       [-7.09840997, -7.87711245, -7.84256625]])"
      ]
     },
     "execution_count": 335,
     "metadata": {},
     "output_type": "execute_result"
    }
   ],
   "source": [
    "np.subtract(D,8)"
   ]
  },
  {
   "cell_type": "code",
   "execution_count": 336,
   "metadata": {},
   "outputs": [
    {
     "data": {
      "text/plain": [
       "array([0.34834174, 0.02418796, 0.14373008, 0.22786096, 0.0844175 ,\n",
       "       0.23595728, 0.00511711, 0.31210758, 0.40698818, 0.38681948,\n",
       "       0.41879409, 0.15395845, 0.61845711, 0.32846896, 0.30363169])"
      ]
     },
     "execution_count": 336,
     "metadata": {},
     "output_type": "execute_result"
    }
   ],
   "source": [
    "np.multiply(A,B)"
   ]
  },
  {
   "cell_type": "code",
   "execution_count": 337,
   "metadata": {},
   "outputs": [
    {
     "data": {
      "text/plain": [
       "array([[25.50204657,  1.76599905,  9.39161749],\n",
       "       [ 1.49291915,  0.09169941,  1.45645895],\n",
       "       [ 0.48180285,  2.0023016 ,  5.47303698]])"
      ]
     },
     "execution_count": 337,
     "metadata": {},
     "output_type": "execute_result"
    }
   ],
   "source": [
    "np.divide(C,D)"
   ]
  },
  {
   "cell_type": "code",
   "execution_count": 338,
   "metadata": {},
   "outputs": [
    {
     "data": {
      "text/plain": [
       "array([[1.13375485, 1.56247332, 1.12782724, 0.90734129],\n",
       "       [1.03888887, 0.98352337, 0.50333143, 0.56782626]])"
      ]
     },
     "execution_count": 338,
     "metadata": {},
     "output_type": "execute_result"
    }
   ],
   "source": [
    "np.divide(E,F)"
   ]
  },
  {
   "cell_type": "code",
   "execution_count": 339,
   "metadata": {},
   "outputs": [
    {
     "data": {
      "text/plain": [
       "array([[7.07771963e-01, 3.28704676e-02],\n",
       "       [3.28546635e-01, 2.04004420e-04],\n",
       "       [8.21597859e-03, 3.78029937e-01],\n",
       "       [4.25275844e-01, 2.57720065e-02]])"
      ]
     },
     "execution_count": 339,
     "metadata": {},
     "output_type": "execute_result"
    }
   ],
   "source": [
    "np.power(G,3)"
   ]
  },
  {
   "cell_type": "code",
   "execution_count": 340,
   "metadata": {},
   "outputs": [
    {
     "data": {
      "text/plain": [
       "array([ True, False, False,  True, False,  True, False,  True,  True,\n",
       "       False, False,  True, False, False,  True])"
      ]
     },
     "execution_count": 340,
     "metadata": {},
     "output_type": "execute_result"
    }
   ],
   "source": [
    "np.greater(A,B)"
   ]
  },
  {
   "cell_type": "code",
   "execution_count": 341,
   "metadata": {},
   "outputs": [
    {
     "data": {
      "text/plain": [
       "array([[False, False, False],\n",
       "       [False,  True, False],\n",
       "       [ True, False, False]])"
      ]
     },
     "execution_count": 341,
     "metadata": {},
     "output_type": "execute_result"
    }
   ],
   "source": [
    "np.less_equal(C,D)"
   ]
  },
  {
   "cell_type": "code",
   "execution_count": 342,
   "metadata": {},
   "outputs": [
    {
     "data": {
      "text/plain": [
       "array([[0.78738529, 0.66493906, 0.72020417, 0.59432468],\n",
       "       [0.47194745, 0.91577642, 0.7440674 , 0.9294858 ]])"
      ]
     },
     "execution_count": 342,
     "metadata": {},
     "output_type": "execute_result"
    }
   ],
   "source": [
    "np.maximum(E,F)"
   ]
  },
  {
   "cell_type": "code",
   "execution_count": 343,
   "metadata": {},
   "outputs": [
    {
     "data": {
      "text/plain": [
       "array([[0.89117799, 0.00436327],\n",
       "       [0.34974214, 0.05886808],\n",
       "       [0.20178386, 0.72306177],\n",
       "       [0.28024548, 0.29538113]])"
      ]
     },
     "execution_count": 343,
     "metadata": {},
     "output_type": "execute_result"
    }
   ],
   "source": [
    "np.minimum(G,H)"
   ]
  },
  {
   "cell_type": "markdown",
   "metadata": {},
   "source": [
    "# Basic array statistical methods"
   ]
  },
  {
   "cell_type": "code",
   "execution_count": 344,
   "metadata": {},
   "outputs": [
    {
     "data": {
      "text/plain": [
       "8.265694282268383"
      ]
     },
     "execution_count": 344,
     "metadata": {},
     "output_type": "execute_result"
    }
   ],
   "source": [
    "np.sum(A)"
   ]
  },
  {
   "cell_type": "code",
   "execution_count": 345,
   "metadata": {},
   "outputs": [
    {
     "data": {
      "text/plain": [
       "0.5115224247833164"
      ]
     },
     "execution_count": 345,
     "metadata": {},
     "output_type": "execute_result"
    }
   ],
   "source": [
    "np.mean(C)"
   ]
  },
  {
   "cell_type": "code",
   "execution_count": 346,
   "metadata": {},
   "outputs": [
    {
     "data": {
      "text/plain": [
       "0.1643096094566645"
      ]
     },
     "execution_count": 346,
     "metadata": {},
     "output_type": "execute_result"
    }
   ],
   "source": [
    "np.std(E)"
   ]
  },
  {
   "cell_type": "code",
   "execution_count": 347,
   "metadata": {},
   "outputs": [
    {
     "data": {
      "text/plain": [
       "0.08243849120045141"
      ]
     },
     "execution_count": 347,
     "metadata": {},
     "output_type": "execute_result"
    }
   ],
   "source": [
    "np.var(G)"
   ]
  },
  {
   "cell_type": "code",
   "execution_count": 348,
   "metadata": {},
   "outputs": [
    {
     "data": {
      "text/plain": [
       "array([ 0.46516496,  1.32028878,  2.30467562,  2.78240318,  3.31910755,\n",
       "        4.10131213,  4.9161374 ,  5.06179253,  5.40502219,  6.1006421 ,\n",
       "        6.28886148,  6.74428617,  7.71470925,  8.70905504,  9.45956341,\n",
       "        9.97185231, 10.48662465, 10.55579678, 11.52697914, 12.48179955,\n",
       "       13.26181586, 14.11031049, 14.5096762 , 15.30660005, 15.32427077])"
      ]
     },
     "execution_count": 348,
     "metadata": {},
     "output_type": "execute_result"
    }
   ],
   "source": [
    "np.cumsum(I)"
   ]
  },
  {
   "cell_type": "code",
   "execution_count": 349,
   "metadata": {},
   "outputs": [
    {
     "data": {
      "text/plain": [
       "array([1.67443755e-01, 3.35846176e-02, 8.08578152e-03, 6.23171060e-04,\n",
       "       4.56057845e-04, 4.70450751e-05, 1.95080050e-05, 4.31488902e-06,\n",
       "       4.05566091e-06, 2.05159845e-06, 1.24902443e-06, 7.28967035e-07,\n",
       "       3.59969855e-07, 6.00479502e-08, 4.79675416e-08, 3.87328314e-08,\n",
       "       2.53982472e-08, 3.26232879e-09, 1.87731627e-09, 5.29040419e-10,\n",
       "       1.37708844e-10, 8.42621288e-11, 5.26198263e-11, 1.98261836e-11,\n",
       "       8.27516792e-12])"
      ]
     },
     "execution_count": 349,
     "metadata": {},
     "output_type": "execute_result"
    }
   ],
   "source": [
    "np.cumprod(J)"
   ]
  },
  {
   "cell_type": "markdown",
   "metadata": {},
   "source": [
    "# Commonly used `numpy.linalg` functions"
   ]
  },
  {
   "cell_type": "code",
   "execution_count": 351,
   "metadata": {},
   "outputs": [
    {
     "data": {
      "text/plain": [
       "array([0.51061623, 0.07874907, 0.86164072])"
      ]
     },
     "execution_count": 351,
     "metadata": {},
     "output_type": "execute_result"
    }
   ],
   "source": [
    "np.diag(C)"
   ]
  },
  {
   "cell_type": "code",
   "execution_count": 352,
   "metadata": {},
   "outputs": [
    {
     "data": {
      "text/plain": [
       "array([0.46516496, 0.81482527, 0.97042308, 0.97118236, 0.01767071])"
      ]
     },
     "execution_count": 352,
     "metadata": {},
     "output_type": "execute_result"
    }
   ],
   "source": [
    "np.diag(I)"
   ]
  },
  {
   "cell_type": "code",
   "execution_count": 354,
   "metadata": {},
   "outputs": [
    {
     "data": {
      "text/plain": [
       "array([[1.71137685, 0.97140729],\n",
       "       [1.51455852, 0.63089602]])"
      ]
     },
     "execution_count": 354,
     "metadata": {},
     "output_type": "execute_result"
    }
   ],
   "source": [
    "np.dot(E,G)"
   ]
  },
  {
   "cell_type": "code",
   "execution_count": 356,
   "metadata": {},
   "outputs": [
    {
     "data": {
      "text/plain": [
       "array([[0.85288088, 0.88109917, 0.7617989 , 0.64964   ],\n",
       "       [0.57109924, 0.51184721, 0.51900669, 0.40317016],\n",
       "       [0.50012881, 0.78542667, 0.41612126, 0.49043522],\n",
       "       [0.73152592, 0.76608686, 0.65222461, 0.56142351]])"
      ]
     },
     "execution_count": 356,
     "metadata": {},
     "output_type": "execute_result"
    }
   ],
   "source": [
    "np.dot(G,E)"
   ]
  },
  {
   "cell_type": "code",
   "execution_count": 358,
   "metadata": {},
   "outputs": [
    {
     "data": {
      "text/plain": [
       "array([[0.80804225, 0.96865191, 0.36089902],\n",
       "       [0.49372978, 0.4625476 , 0.13837661],\n",
       "       [0.90801406, 0.51302709, 0.23863534]])"
      ]
     },
     "execution_count": 358,
     "metadata": {},
     "output_type": "execute_result"
    }
   ],
   "source": [
    "np.dot(C,D)"
   ]
  },
  {
   "cell_type": "code",
   "execution_count": 360,
   "metadata": {},
   "outputs": [
    {
     "data": {
      "text/plain": [
       "array([[0.36581821, 0.06311211, 0.26962258],\n",
       "       [1.03771441, 0.5462822 , 0.9289445 ],\n",
       "       [0.62006761, 0.76622461, 0.59712477]])"
      ]
     },
     "execution_count": 360,
     "metadata": {},
     "output_type": "execute_result"
    }
   ],
   "source": [
    "np.dot(D,C)"
   ]
  },
  {
   "cell_type": "code",
   "execution_count": 367,
   "metadata": {},
   "outputs": [
    {
     "data": {
      "text/plain": [
       "array([[ 0.17290757,  1.91167869, -1.17128887],\n",
       "       [ 1.4208845 , -0.81751951, -0.27177275],\n",
       "       [-0.49293052, -0.73029783,  1.82868149]])"
      ]
     },
     "execution_count": 367,
     "metadata": {},
     "output_type": "execute_result"
    }
   ],
   "source": [
    "from numpy import linalg\n",
    "linalg.inv(C)"
   ]
  },
  {
   "cell_type": "code",
   "execution_count": 369,
   "metadata": {},
   "outputs": [
    {
     "data": {
      "text/plain": [
       "array([[  1.36650381,  -0.94651222,   1.60133121],\n",
       "       [  3.24727628,  -0.57539209,   0.24553253],\n",
       "       [-10.36039654,   5.86960882,  -3.01026404]])"
      ]
     },
     "execution_count": 369,
     "metadata": {},
     "output_type": "execute_result"
    }
   ],
   "source": [
    "linalg.inv(D)"
   ]
  },
  {
   "cell_type": "code",
   "execution_count": 372,
   "metadata": {},
   "outputs": [
    {
     "data": {
      "text/plain": [
       "array([[-0.10106527,  1.57571448,  0.46385933],\n",
       "       [-0.6234798 , -0.09488931, -0.24912211],\n",
       "       [ 1.27536196, -0.62466484,  0.02000485]])"
      ]
     },
     "execution_count": 372,
     "metadata": {},
     "output_type": "execute_result"
    }
   ],
   "source": [
    "linalg.solve(C,D)"
   ]
  },
  {
   "cell_type": "code",
   "execution_count": 373,
   "metadata": {},
   "outputs": [
    {
     "data": {
      "text/plain": [
       "array([[-1.58123484,  1.98305019,  3.1757339 ,  4.65435389,  2.35820987],\n",
       "       [ 1.25052335, -1.75094855, -2.87617987, -3.85482632, -2.05086695],\n",
       "       [-0.69103872,  0.52893132,  1.31027585,  1.1332549 ,  1.37042254],\n",
       "       [ 0.88541788,  0.42386492,  0.08537842, -0.56135804, -0.29507385],\n",
       "       [ 0.1693435 ,  0.09733454, -0.20047849,  0.67261689,  0.3364267 ]])"
      ]
     },
     "execution_count": 373,
     "metadata": {},
     "output_type": "execute_result"
    }
   ],
   "source": [
    "linalg.solve(I,J)"
   ]
  }
 ],
 "metadata": {
  "kernelspec": {
   "display_name": "Scholarly",
   "language": "python",
   "name": "python3"
  },
  "language_info": {
   "codemirror_mode": {
    "name": "ipython",
    "version": 3
   },
   "file_extension": ".py",
   "mimetype": "text/x-python",
   "name": "python",
   "nbconvert_exporter": "python",
   "pygments_lexer": "ipython3",
   "version": "3.12.5"
  }
 },
 "nbformat": 4,
 "nbformat_minor": 2
}
