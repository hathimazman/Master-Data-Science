{
 "cells": [
  {
   "cell_type": "markdown",
   "metadata": {},
   "source": [
    "<div style=\"text-align: center;\">\n",
    "    <h1>Project 1 - Task 4</h1>\n",
    "    <h2>STQD6014 Data Science</h2>\n",
    "    <h3>Student Name: Ahmad Hathim Ahmad Azman</h3>\n",
    "    <h3>Student Number: P153146</h3>\n",
    "</div>"
   ]
  },
  {
   "cell_type": "markdown",
   "metadata": {},
   "source": [
    "Make two files, movie.txt and sport.txt. Store at least five names of movies and sports line by line in these corresponding text files.\n",
    "1. Write a program that tries to read these files and print the contents of the file to the screen.\n",
    "2. Add five newlines to both of these files, describing the existing contents with suitable explanation.\n"
   ]
  },
  {
   "cell_type": "code",
   "execution_count": 28,
   "metadata": {},
   "outputs": [],
   "source": [
    "movies_path = \"G:/My Drive/Master-Data-Science/Semester_1/Data_Science/Project_1/Finalized/movies.txt\"\n",
    "sports_path = \"G:/My Drive/Master-Data-Science/Semester_1/Data_Science/Project_1/Finalized/sports.txt\"\n",
    "doesnt_exit = \"G:/My Drive/Master-Data-Science/Semester_1/Data_Science/Project_1/Finalized/nonexistent.txt\""
   ]
  },
  {
   "cell_type": "code",
   "execution_count": 29,
   "metadata": {},
   "outputs": [],
   "source": [
    "def read_file(file):\n",
    "    with open(file, 'r') as f:\n",
    "        contents = f.read()\n",
    "        return print(contents)"
   ]
  },
  {
   "cell_type": "code",
   "execution_count": 30,
   "metadata": {},
   "outputs": [
    {
     "name": "stdout",
     "output_type": "stream",
     "text": [
      "Titanic\n",
      "The Office\n",
      "The Good Place\n",
      "Parks and Recreation\n",
      "Gilmore Girls\n",
      "\n"
     ]
    }
   ],
   "source": [
    "read_file(movies_path)"
   ]
  },
  {
   "cell_type": "code",
   "execution_count": 31,
   "metadata": {},
   "outputs": [
    {
     "name": "stdout",
     "output_type": "stream",
     "text": [
      "Softball\n",
      "Baseball\n",
      "Volleyball\n",
      "Silat\n",
      "Football\n",
      "Rugby\n",
      "\n"
     ]
    }
   ],
   "source": [
    "read_file(sports_path)"
   ]
  },
  {
   "cell_type": "code",
   "execution_count": 32,
   "metadata": {},
   "outputs": [],
   "source": [
    "def new_line(file, new_line):\n",
    "    with open(file, 'a') as f:\n",
    "        for line in new_line:\n",
    "            f.write(line + \"\\n\")\n",
    "        \n",
    "        return print(\"New line added successfully\")"
   ]
  },
  {
   "cell_type": "code",
   "execution_count": 33,
   "metadata": {},
   "outputs": [],
   "source": [
    "new_movies = [\"The Godfather\", \"The Dark Knight\", \"Pulp Fiction\", \"The Shawshank Redemption\", \"The Lord of the Rings\"]\n",
    "new_sports = [\"Swimming\", \"Cricket\", \"Basketball\", \"Tennis\", \"Golf\"]"
   ]
  },
  {
   "cell_type": "code",
   "execution_count": 34,
   "metadata": {},
   "outputs": [
    {
     "name": "stdout",
     "output_type": "stream",
     "text": [
      "New line added successfully\n",
      "\n",
      "\n",
      "Titanic\n",
      "The Office\n",
      "The Good Place\n",
      "Parks and Recreation\n",
      "Gilmore Girls\n",
      "The Godfather\n",
      "The Dark Knight\n",
      "Pulp Fiction\n",
      "The Shawshank Redemption\n",
      "The Lord of the Rings\n",
      "\n"
     ]
    }
   ],
   "source": [
    "new_line(movies_path, new_movies)\n",
    "print('\\n')\n",
    "read_file(movies_path)"
   ]
  },
  {
   "cell_type": "code",
   "execution_count": 35,
   "metadata": {},
   "outputs": [
    {
     "name": "stdout",
     "output_type": "stream",
     "text": [
      "New line added successfully\n",
      "\n",
      "\n",
      "Softball\n",
      "Baseball\n",
      "Volleyball\n",
      "Silat\n",
      "Football\n",
      "Rugby\n",
      "Swimming\n",
      "Cricket\n",
      "Basketball\n",
      "Tennis\n",
      "Golf\n",
      "\n"
     ]
    }
   ],
   "source": [
    "new_line(sports_path, new_sports)\n",
    "print('\\n')\n",
    "read_file(sports_path)"
   ]
  },
  {
   "cell_type": "markdown",
   "metadata": {},
   "source": [
    "3. Wrap your code in a try-except block to catch the FileNotFound error, and print a friendly message if a file is missing. Move one of the files to a different location on your system, and make sure the code in the except block executes properly."
   ]
  },
  {
   "cell_type": "code",
   "execution_count": 36,
   "metadata": {},
   "outputs": [
    {
     "name": "stdout",
     "output_type": "stream",
     "text": [
      "Sorry, the file does not exist.\n"
     ]
    }
   ],
   "source": [
    "try:\n",
    "    with open(doesnt_exit) as file:\n",
    "        contents = file.read()\n",
    "    \n",
    "except FileNotFoundError:\n",
    "    print(\"Sorry, the file does not exist.\")"
   ]
  },
  {
   "cell_type": "markdown",
   "metadata": {},
   "source": [
    "Write a program that prompt for user’s year of birth and favourite number. Use json.dump() to store this number in a file. Write a separate program that reads in this value and prints the message,\n",
    "```python\n",
    "“My year of birth: ”\n",
    "“My favourite number: ”\n",
    "```"
   ]
  },
  {
   "cell_type": "code",
   "execution_count": 37,
   "metadata": {},
   "outputs": [],
   "source": [
    "import json"
   ]
  },
  {
   "cell_type": "code",
   "execution_count": 38,
   "metadata": {},
   "outputs": [],
   "source": [
    "Birthday = input(\"Enter your birthday in the format DD/MM/YYYY: \")\n",
    "Number = input(\"Enter your favourite number: \")\n",
    "\n",
    "record = {Birthday: Number}\n",
    "\n",
    "filename = 'birthdays.json'\n",
    "with open(filename, 'w') as f:\n",
    "    for birthday, number in record.items():\n",
    "        json.dump([birthday, number], f)\n",
    "\n"
   ]
  },
  {
   "cell_type": "code",
   "execution_count": 40,
   "metadata": {},
   "outputs": [
    {
     "name": "stdout",
     "output_type": "stream",
     "text": [
      "My year of birth: 1998\n",
      "My favourite number: 11\n"
     ]
    }
   ],
   "source": [
    "filename = 'birthdays.json'\n",
    "with open(filename) as f:\n",
    "    contents = json.load(f)\n",
    "    print(f\"My year of birth: {contents[0].split('/')[2]}\\nMy favourite number: {contents[1]}\")"
   ]
  }
 ],
 "metadata": {
  "kernelspec": {
   "display_name": "Scholarly",
   "language": "python",
   "name": "python3"
  },
  "language_info": {
   "codemirror_mode": {
    "name": "ipython",
    "version": 3
   },
   "file_extension": ".py",
   "mimetype": "text/x-python",
   "name": "python",
   "nbconvert_exporter": "python",
   "pygments_lexer": "ipython3",
   "version": "3.12.5"
  }
 },
 "nbformat": 4,
 "nbformat_minor": 2
}
