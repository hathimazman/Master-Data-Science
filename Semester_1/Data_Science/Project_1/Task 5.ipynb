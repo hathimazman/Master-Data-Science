{
 "cells": [
  {
   "cell_type": "markdown",
   "metadata": {},
   "source": [
    "<div style=\"text-align: center;\">\n",
    "    <h1>Project 1</h1>\n",
    "    <h2>STQD6014 Data Science</h2>\n",
    "    <h3>Student Name: Ahmad Hathim Ahmad Azman</h3>\n",
    "    <h3>Student Number: P153146</h3>\n",
    "</div>"
   ]
  },
  {
   "cell_type": "markdown",
   "metadata": {},
   "source": [
    "**Create two arrays each of sizes: single 1d array, 3x3, 2x4, 4x2 and 5x5. Hence, you will have ten arrays all together and these arrays must be generated via random number. Name your arrays in order from A to J.**\n",
    "\n",
    "*Using numpy library: perform at least twenty (20) functions from Table 4-3, Table 4-4, Table 4-5 and Table 4-7 from Python for Data Analysis book.*\n",
    "\n",
    "You must:\n",
    "1. Perform operation on single array\n",
    "2. Perform operation on two arrays of same size (eg. multiplication, etc.)\n",
    "3. Perform operation on two arrays of different size (eg. dot product between array of size 2x4 and 4x2\n",
    "\n",
    "Note: you must include all arrays created.\n"
   ]
  },
  {
   "cell_type": "code",
   "execution_count": 1,
   "metadata": {},
   "outputs": [],
   "source": [
    "import numpy as np"
   ]
  },
  {
   "cell_type": "code",
   "execution_count": null,
   "metadata": {},
   "outputs": [],
   "source": []
  }
 ],
 "metadata": {
  "kernelspec": {
   "display_name": "Scholarly",
   "language": "python",
   "name": "python3"
  },
  "language_info": {
   "codemirror_mode": {
    "name": "ipython",
    "version": 3
   },
   "file_extension": ".py",
   "mimetype": "text/x-python",
   "name": "python",
   "nbconvert_exporter": "python",
   "pygments_lexer": "ipython3",
   "version": "3.12.5"
  }
 },
 "nbformat": 4,
 "nbformat_minor": 2
}
