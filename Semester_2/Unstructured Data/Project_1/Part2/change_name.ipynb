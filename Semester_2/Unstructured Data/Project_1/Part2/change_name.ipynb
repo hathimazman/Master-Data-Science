{
 "cells": [
  {
   "cell_type": "code",
   "execution_count": 1,
   "id": "392d53cc",
   "metadata": {},
   "outputs": [],
   "source": [
    "import os\n",
    "import re\n",
    "\n",
    "# Set the path to your folder\n",
    "folder_path = \"D:/Github Repo/Master-Data-Science/Semester_2/Unstructured Data/Project_1/Part2/dataset - Copy\"\n",
    "\n",
    "# Get all .txt files\n",
    "txt_files = [f for f in os.listdir(folder_path) if f.endswith(\".txt\")]\n",
    "\n",
    "def clean_filename(text):\n",
    "    # Keep alphanumerics and replace others with underscore\n",
    "    text = re.sub(r'[^a-zA-Z0-9]', '_', text)\n",
    "    text = re.sub(r'_+', '_', text)          # Remove multiple underscores\n",
    "    text = text.strip('_')                   # Remove leading/trailing underscores\n",
    "    return text[:40]                         # Truncate to 40 characters\n",
    "\n",
    "# Loop through files\n",
    "for filename in txt_files:\n",
    "    old_path = os.path.join(folder_path, filename)\n",
    "    \n",
    "    with open(old_path, 'r', encoding='utf-8') as f:\n",
    "        first_line = f.readline().strip()\n",
    "\n",
    "    if first_line:\n",
    "        new_name = clean_filename(first_line) + \".txt\"\n",
    "        new_path = os.path.join(folder_path, new_name)\n",
    "\n",
    "        # Avoid overwriting existing files\n",
    "        if not os.path.exists(new_path):\n",
    "            os.rename(old_path, new_path)\n",
    "        else:\n",
    "            print(f\"Skipping (already exists): {new_name}\")\n"
   ]
  }
 ],
 "metadata": {
  "kernelspec": {
   "display_name": "MSc310",
   "language": "python",
   "name": "python3"
  },
  "language_info": {
   "codemirror_mode": {
    "name": "ipython",
    "version": 3
   },
   "file_extension": ".py",
   "mimetype": "text/x-python",
   "name": "python",
   "nbconvert_exporter": "python",
   "pygments_lexer": "ipython3",
   "version": "3.10.16"
  }
 },
 "nbformat": 4,
 "nbformat_minor": 5
}
