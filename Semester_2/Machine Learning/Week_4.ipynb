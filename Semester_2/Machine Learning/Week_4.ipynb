{
 "cells": [
  {
   "cell_type": "code",
   "execution_count": null,
   "metadata": {},
   "outputs": [],
   "source": [
    "!ls data"
   ]
  },
  {
   "cell_type": "markdown",
   "metadata": {},
   "source": [
    "# Chapter 5 Resampling Methods\n",
    "+ **Resampling** - repeatedly drawing samples from a training set and refitting a modelon each sample - to obtain additional info.\n",
    "\n",
    "+ Common resampling methods: bootstraping and cross validation. \n",
    "+ Cross validation can be used to estimate the test error to evaluate model perfomance (**model assessment**) or to select appropriate level of flexibility (**model selection**).\n",
    "+ Boostraping provide a measure of accuracy of a parameter estimates or statistical learning method.\n",
    "\n",
    "## Cross Validation\n",
    "### Validation Set Approach\n",
    "+ Usually a test set is not available so a simple strategy to create one is to split the available data into training and testing (**validation or hold-out set**). \n",
    "+ Divide the data into half where the observation in each sets are randomly selected.\n",
    "+ To assess the model perfomance - quantitative responses usually use MSE, for categorical can use error rate, area under the curve, F1 score, weighting of confusion matrix, etc...\n",
    "+ Drawbacks of this technique: \n",
    "    + the validation estimation of the test error rate can be highly variable.\n",
    "    + the validation set error rate may tend to overestimate the test error rate.\n",
    "\n"
   ]
  },
  {
   "cell_type": "code",
   "execution_count": null,
   "metadata": {},
   "outputs": [],
   "source": [
    "from IPython.display import Image\n",
    "Image('images/pw41.png', width =500)"
   ]
  },
  {
   "cell_type": "markdown",
   "metadata": {},
   "source": [
    "#### Example\n"
   ]
  },
  {
   "cell_type": "code",
   "execution_count": null,
   "metadata": {},
   "outputs": [],
   "source": [
    "import pandas as pd\n",
    "import numpy as np\n",
    "import sklearn.linear_model as skl_lm\n",
    "import matplotlib.pyplot as plt\n",
    "%matplotlib inline\n"
   ]
  },
  {
   "cell_type": "markdown",
   "metadata": {},
   "source": [
    "In this section, we'll explore the use of the validation set approach in order to estimate the\n",
    "test error rates that result from fitting various linear models on the ${\\tt Auto}$ data set."
   ]
  },
  {
   "cell_type": "code",
   "execution_count": null,
   "metadata": {},
   "outputs": [],
   "source": [
    "df1 = pd.read_csv('data/auto.csv', na_values='?').dropna()\n",
    "df1.info()"
   ]
  },
  {
   "cell_type": "markdown",
   "metadata": {},
   "source": [
    "We begin by using the ${\\tt sample()}$ function to split the set of observations\n",
    "into two halves, by selecting a random subset of 196 observations out of\n",
    "the original 392 observations. We refer to these observations as the training\n",
    "set.\n",
    "\n",
    "We'll use the ${\\tt random\\_state}$ parameter in order to set a seed for\n",
    "${\\tt python}$’s random number generator, so that you'll obtain precisely the same results each time. It is generally a good idea to set a random seed when performing an analysis such as cross-validation\n",
    "that contains an element of randomness, so that the results obtained can be reproduced precisely at a later time."
   ]
  },
  {
   "cell_type": "code",
   "execution_count": null,
   "metadata": {},
   "outputs": [],
   "source": [
    "train_df = df1.sample(196, random_state = 1)\n",
    "test_df = df1[~df1.isin(train_df)].dropna(how = 'all')\n",
    "\n",
    "X_train = train_df['horsepower'].values.reshape(-1,1)\n",
    "y_train = train_df['mpg']\n",
    "X_test = test_df['horsepower'].values.reshape(-1,1)\n",
    "y_test = test_df['mpg']"
   ]
  },
  {
   "cell_type": "markdown",
   "metadata": {},
   "source": [
    "We then use ${\\tt LinearRegression()}$ to fit a linear regression to predict ${\\tt mpg}$ from ${\\tt horsepower}$ using only\n",
    "the observations corresponding to the training set."
   ]
  },
  {
   "cell_type": "code",
   "execution_count": null,
   "metadata": {},
   "outputs": [],
   "source": [
    "lm = skl_lm.LinearRegression()\n",
    "model = lm.fit(X_train, y_train)\n"
   ]
  },
  {
   "cell_type": "markdown",
   "metadata": {},
   "source": [
    "We now use the ${\\tt predict()}$ function to estimate the response for the test\n",
    "observations, and we use ${\\tt sklearn}$ to caclulate the MSE."
   ]
  },
  {
   "cell_type": "code",
   "execution_count": null,
   "metadata": {},
   "outputs": [],
   "source": [
    "pred = model.predict(X_test)\n",
    "\n",
    "from sklearn.metrics import mean_squared_error\n",
    "\n",
    "MSE = mean_squared_error(y_test, pred)\n",
    "    \n",
    "print(MSE)"
   ]
  },
  {
   "cell_type": "markdown",
   "metadata": {},
   "source": [
    "Therefore, the estimated test MSE for the linear regression fit is 23.36. We\n",
    "can use the ${\\tt PolynomialFeatures()}$ function to estimate the test error for the polynomial\n",
    "and cubic regressions."
   ]
  },
  {
   "cell_type": "code",
   "execution_count": null,
   "metadata": {},
   "outputs": [],
   "source": [
    "from sklearn.preprocessing import PolynomialFeatures\n",
    "\n",
    "# Quadratic\n",
    "poly = PolynomialFeatures(degree=2)\n",
    "X_train2 = poly.fit_transform(X_train)\n",
    "X_test2 = poly.fit_transform(X_test)\n",
    "\n",
    "model = lm.fit(X_train2, y_train)\n",
    "print(mean_squared_error(y_test, model.predict(X_test2)))\n",
    "\n",
    "# Cubic\n",
    "poly = PolynomialFeatures(degree=3)\n",
    "X_train3 = poly.fit_transform(X_train)\n",
    "X_test3 = poly.fit_transform(X_test)\n",
    "\n",
    "model = lm.fit(X_train3, y_train)\n",
    "print(mean_squared_error(y_test, model.predict(X_test3)))"
   ]
  },
  {
   "cell_type": "markdown",
   "metadata": {},
   "source": [
    "These error rates are 20.25 and 20.33, respectively. If we choose a different\n",
    "training set instead, then we will obtain somewhat different errors on the\n",
    "validation set. We can test this out by setting a different random seed:"
   ]
  },
  {
   "cell_type": "code",
   "execution_count": null,
   "metadata": {},
   "outputs": [],
   "source": [
    "##Choose a different training set\n",
    "\n",
    "train_df = df1.sample(196, random_state = 2)\n",
    "test_df = df1[~df1.isin(train_df)].dropna(how = 'all')\n",
    "\n",
    "X_train = train_df['horsepower'].values.reshape(-1,1)\n",
    "y_train = train_df['mpg']\n",
    "X_test = test_df['horsepower'].values.reshape(-1,1)\n",
    "y_test = test_df['mpg']\n",
    "\n",
    "# Linear\n",
    "model = lm.fit(X_train, y_train)\n",
    "print(mean_squared_error(y_test, model.predict(X_test)))\n",
    "\n",
    "# Quadratic\n",
    "poly = PolynomialFeatures(degree=2)\n",
    "X_train2 = poly.fit_transform(X_train)\n",
    "X_test2 = poly.fit_transform(X_test)\n",
    "\n",
    "model = lm.fit(X_train2, y_train)\n",
    "print(mean_squared_error(y_test, model.predict(X_test2)))\n",
    "\n",
    "# Cubic\n",
    "poly = PolynomialFeatures(degree=3)\n",
    "X_train3 = poly.fit_transform(X_train)\n",
    "X_test3 = poly.fit_transform(X_test)\n",
    "\n",
    "model = lm.fit(X_train3, y_train)\n",
    "print(mean_squared_error(y_test, model.predict(X_test3)))"
   ]
  },
  {
   "cell_type": "markdown",
   "metadata": {},
   "source": [
    "These results are consistent with our previous findings: a model that\n",
    "predicts ${\\tt mpg}$ using a quadratic function of ${\\tt horsepower}$ performs better than\n",
    "a model that involves only a linear function of ${\\tt horsepower}$, and there is\n",
    "little evidence in favor of a model that uses a cubic function of ${\\tt horsepower}$."
   ]
  },
  {
   "cell_type": "markdown",
   "metadata": {},
   "source": [
    "### Leave One Out Cross Validation\n",
    "+ LOOCV has only one observation in the test set and uses all other n-1 observations to build a model. \n",
    "+ n different models are built leaving out each observation once and error is averaged over these n trials.  \n",
    "$$\\textrm{CV}_{(n)} = \\frac{1}{n}\\sum_{i=1}^n{\\textrm{MSE}_i}$$\n",
    "+ LOOCV is better than validation set approach. It has far less bias and tends to not overestimate the test error rate. \n",
    "+ Model is built on nearly all the data and there is no randomness in the splits since each observation will be left out once. \n",
    "+ It is computationally expensive especially with large n and a complex model.\n",
    "\n"
   ]
  },
  {
   "cell_type": "code",
   "execution_count": null,
   "metadata": {
    "scrolled": true
   },
   "outputs": [],
   "source": [
    "Image('images/pw42.png', width =500)"
   ]
  },
  {
   "cell_type": "markdown",
   "metadata": {},
   "source": [
    "#### Example"
   ]
  },
  {
   "cell_type": "code",
   "execution_count": null,
   "metadata": {
    "scrolled": true
   },
   "outputs": [],
   "source": [
    "model = lm.fit(X_train, y_train)\n",
    "\n",
    "from sklearn.model_selection import cross_val_score, LeaveOneOut\n",
    "loo = LeaveOneOut()\n",
    "X = df1['horsepower'].values.reshape(-1,1)\n",
    "y = df1['mpg'].values.reshape(-1,1)\n",
    "loo.get_n_splits(X)\n",
    "\n",
    "from sklearn.model_selection import KFold\n",
    "\n",
    "crossvalidation = KFold(n_splits=392, random_state=None, shuffle=False)\n",
    "\n",
    "scores = cross_val_score(model, X, y, scoring=\"neg_mean_squared_error\", cv=crossvalidation,\n",
    " n_jobs=1)\n",
    "\n",
    "print(\"Folds: \" + str(len(scores)) + \", MSE: \" + str(np.mean(np.abs(scores))) + \", STD: \" + str(np.std(scores)))\n"
   ]
  },
  {
   "cell_type": "markdown",
   "metadata": {},
   "source": [
    "We can repeat this procedure for increasingly complex polynomial fits. \n",
    "\n",
    "To automate the process, we use the for() function to initiate a for loop which iteratively fits polynomial regressions for polynomials of order i = 1 to i = 5 and computes the associated cross-validation error."
   ]
  },
  {
   "cell_type": "code",
   "execution_count": null,
   "metadata": {},
   "outputs": [],
   "source": [
    "for i in range(1,6):\n",
    "    poly = PolynomialFeatures(degree=i)\n",
    "    X_current = poly.fit_transform(X)\n",
    "    model = lm.fit(X_current, y)\n",
    "    scores = cross_val_score(model, X_current, y, scoring=\"neg_mean_squared_error\", cv=crossvalidation,\n",
    " n_jobs=1)\n",
    "    \n",
    "    print(\"Degree-\"+str(i)+\" polynomial MSE: \" + str(np.mean(np.abs(scores))) + \", STD: \" + str(np.std(scores)))\n"
   ]
  },
  {
   "cell_type": "markdown",
   "metadata": {},
   "source": [
    "\n",
    "### k-fold cross validation\n",
    "+ Similar to LOOCV but this time you leave some number greater than 1 out. \n",
    "+ Here, $k$ is the number of partitions of your sample, so if you have $n=1000$ observations and k = 10, the each fold will be 100. \n",
    "+ 900 observations would be the training set and 100 observations would act as your test set. \n",
    "+ Get an MSE for each fold of these 100 observations and take the average. \n",
    "$$\\textrm{CV}_{(k)} = \\frac{1}{k}\\sum_{i=1}^k{\\textrm{MSE}_i}$$\n",
    "+ LOOCV is a special case of k-fold CV whenever $k=n$.\n",
    "+ Computationally inexpensive compare to LOOCV.\n",
    "+ Some variability compare to LOOCV.\n",
    "\n"
   ]
  },
  {
   "cell_type": "code",
   "execution_count": null,
   "metadata": {},
   "outputs": [],
   "source": [
    "Image('images/pw43.png', width =500)"
   ]
  },
  {
   "cell_type": "markdown",
   "metadata": {},
   "source": [
    "#### Example"
   ]
  },
  {
   "cell_type": "code",
   "execution_count": null,
   "metadata": {
    "scrolled": true
   },
   "outputs": [],
   "source": [
    "crossvalidation = KFold(n_splits=10, shuffle=False)\n",
    "\n",
    "for i in range(1,11):\n",
    "    poly = PolynomialFeatures(degree=i)\n",
    "    X_current = poly.fit_transform(X)\n",
    "    model = lm.fit(X_current, y)\n",
    "    scores = cross_val_score(model, X_current, y, scoring=\"neg_mean_squared_error\", cv=crossvalidation,\n",
    " n_jobs=1)\n",
    "    \n",
    "    print(\"Degree-\"+str(i)+\" polynomial MSE: \" + str(np.mean(np.abs(scores))) + \", STD: \" + str(np.std(scores)))"
   ]
  },
  {
   "cell_type": "markdown",
   "metadata": {},
   "source": [
    "### bias-variance tradeoff between LOOCV and k-folds\n",
    "+ Since LOOCV trains on nearly all the data, the test error rate will generally be lower than k-fold and therefore less biased. \n",
    "+ LOOCV will have higher variance since all $n$ models will be very highly correlated to one another. \n",
    "+ Since the models won't differ much, the test error rate (which what CV is measuring) will vary more than k-fold which has fewer models that are less correlated with one another. \n",
    "+ A value of $k$ between 5 and 10 is a good rule of thumb that balances the trade-off between bias and variance"
   ]
  },
  {
   "cell_type": "markdown",
   "metadata": {},
   "source": [
    "#### Example: Default Data"
   ]
  },
  {
   "cell_type": "code",
   "execution_count": null,
   "metadata": {
    "scrolled": true
   },
   "outputs": [],
   "source": [
    "df2 = pd.read_csv('data/default.csv', na_values='?').dropna()\n",
    "df2.describe()"
   ]
  },
  {
   "cell_type": "code",
   "execution_count": null,
   "metadata": {},
   "outputs": [],
   "source": [
    "df2.head()"
   ]
  },
  {
   "cell_type": "markdown",
   "metadata": {},
   "source": [
    "First we'll try just holding out a random 20% of the data:"
   ]
  },
  {
   "cell_type": "code",
   "execution_count": null,
   "metadata": {},
   "outputs": [],
   "source": [
    "import statsmodels.formula.api as smf\n",
    "import statsmodels.api as sm\n",
    "from sklearn.metrics import confusion_matrix, classification_report\n",
    "\n",
    "for i in range(1,11):\n",
    "    train_df2 = df2.sample(8000, random_state = i)\n",
    "    test_df2 = df2[~df2.isin(train_df2)].dropna(how = 'all')\n",
    "    \n",
    "    # Fit a logistic regression to predict default using balance\n",
    "    model = smf.glm('default~balance', data=train_df2, family=sm.families.Binomial())\n",
    "    result = model.fit()\n",
    "    predictions_nominal = [ \"Yes\" if x < 0.5 else \"No\" for x in result.predict(test_df2)]\n",
    "    print(\"----------------\")\n",
    "    print(\"Random Seed = \" + str(i) + \"\")\n",
    "    print(\"----------------\")\n",
    "    print(confusion_matrix(test_df2[\"default\"], \n",
    "                       predictions_nominal))\n",
    "    print(classification_report(test_df2[\"default\"], \n",
    "                            predictions_nominal, \n",
    "                            digits = 3))\n",
    "    print()\n",
    "    "
   ]
  },
  {
   "cell_type": "markdown",
   "metadata": {},
   "source": [
    "### Precision Score\n",
    "The precision is intuitively the ability of the classifier not to label as positive a sample that is negative.\n",
    "TP – True Positives\n",
    "FP – False Positives\n",
    "\n",
    "Precision – Accuracy of positive predictions.\n",
    "Precision = TP/(TP + FP)\n",
    "\n",
    "### Recall Score\n",
    "The recall is intuitively the ability of the classifier to find all the positive samples.\n",
    "FN – False Negatives\n",
    "\n",
    "Recall (aka sensitivity or true positive rate): Fraction of positives That were correctly identified.\n",
    "Recall = TP/(TP+FN)\n",
    "\n",
    "### F1 Score\n",
    "F1 Score (aka F-Score or F-Measure) – A helpful metric for comparing two classifiers. F1 Score takes into account precision and the recall. It is created by finding the the harmonic mean of precision and recall.\n",
    "\n",
    "F1 = 2 x (precision x recall)/(precision + recall)\n",
    "\n",
    "The F1 score reaches its best value at 1 and worst score at 0.\n",
    "\n",
    "The F1 score weights recall more than precision by a factor of beta. beta == 1.0 means recall and precision are equally important.\n",
    "\n",
    "### Support\n",
    "The support is the number of occurrences of each class in y_true.\n",
    "\n"
   ]
  },
  {
   "cell_type": "markdown",
   "metadata": {},
   "source": [
    "# Exercise \n",
    "\n",
    "Build a logistic model on the full Default dataset and then run 5-fold cross-validation to get a more accurate estimate of your test error rate:"
   ]
  },
  {
   "cell_type": "code",
   "execution_count": null,
   "metadata": {},
   "outputs": [],
   "source": [
    "?np.ones\n"
   ]
  },
  {
   "cell_type": "code",
   "execution_count": null,
   "metadata": {},
   "outputs": [],
   "source": [
    "from sklearn.linear_model import LogisticRegression\n",
    "from sklearn.model_selection import cross_validate, cross_val_predict\n",
    "from sklearn import metrics\n",
    "\n",
    "df2 = pd.read_csv('data/default.csv', na_values='?').dropna()\n",
    "\n",
    "df2['Yes'] = (df2['default'] == 'Yes').astype(int)\n",
    "\n",
    "X = np.column_stack((np.ones(len(df2)), df2['balance']))\n",
    "y=df2['Yes'].values\n",
    "\n",
    "lr=LogisticRegression()\n",
    "predicted = cross_val_predict(lr, X, y, cv=5)\n",
    "print(metrics.accuracy_score(y, predicted))\n",
    "print(confusion_matrix(y,predicted))\n",
    "print(metrics.classification_report(y, predicted)) "
   ]
  },
  {
   "cell_type": "markdown",
   "metadata": {},
   "source": [
    "# Bootstrap\n",
    "+ Can be used to quantify the uncertainty associated with a given estimator or statistical learning method.\n",
    "+ Bootstrap approach allows us to use a computer to emulate the process of obtaining new sample sets, to estimate the variability of estimated parameter without generating additional samples.\n",
    "+ Rather than repeatedly obtaining independent data sets from the population, we instead obtain distinct data sets by repeatedly sampling observations from the original data set.\n",
    "+ We randomly select $n$ observations from the data set in order to produce a bootstrap data set.\n",
    "+ The sampling is performed with replacement, which means that the same observation can occur more than once in the bootstrap data set.\n",
    "\n",
    "\n"
   ]
  },
  {
   "cell_type": "code",
   "execution_count": null,
   "metadata": {},
   "outputs": [],
   "source": [
    "Image('images/pw44.png', width =500)"
   ]
  },
  {
   "cell_type": "markdown",
   "metadata": {},
   "source": [
    "#### Example:\n",
    "+ Suppose that we wish to invest a fixed sum of money in two financial assets that yield returns of $X$ and $Y$ , respectively, where $X$ and $Y$ are random quantities. \n",
    "+ We will invest a fraction $\\alpha$ of our money in $X$, and the remaining $1 − \\alpha$ in $Y$. \n",
    "+ Since there is variability associated with the returns on these two assets, we wish to choose $\\alpha$ to minimize the total risk, or variance, of our investment.\n",
    "$$\\hat{\\alpha} = \\frac{\\hat{\\sigma}^2_Y - \\hat{\\sigma}_{XY}}{\\hat{\\sigma}^2_X + \\hat{\\sigma}^2_Y - 2\\hat{\\sigma}_{XY}}$$\n",
    "+ 100 pairs of returns for the investments $X$ and $Y$ are simulated, to estimate $\\hat{\\sigma}^2_X, \\hat{\\sigma}^2_Y$ and $\\hat{\\sigma}_{XY}$, to obtain $\\hat{\\alpha}$.\n",
    "+ This process is repeated 1000 times, resulting 1000 estimates for $\\alpha$.\n",
    "+ $0.532 \\leq \\hat{\\alpha} \\leq 0.657$.\n",
    "+ $\\bar{\\alpha} = 0.5996$ and $\\textrm{SE}(\\hat{\\alpha}) = 0.083$.\n",
    "+ However this cannot be applied, because for real data we cannot generate new samples from the original population. \n",
    "+ By using bootstrap technique,we can resample the data repeatedly.\n",
    "+ The bootstrap data set, $Z^{*i}$ can be used to produce the estimate for $\\alpha$, given as $\\hat{\\alpha}^{*i}$.\n",
    "+ The SE of this bootstrap estimates is\n",
    "$$\\textrm{SE}_B(\\hat{\\alpha}) = \\sqrt{\\frac{1}{B-1}\\sum_{r=1}^B{\\left( \\hat{\\alpha}^{*r} - \\frac{1}{B} \\sum_{r^\\prime = 1}^B{\\hat{\\alpha}^{*r^\\prime}}\\right)^2}}$$\n"
   ]
  },
  {
   "cell_type": "markdown",
   "metadata": {},
   "source": [
    "#### Example"
   ]
  },
  {
   "cell_type": "code",
   "execution_count": null,
   "metadata": {},
   "outputs": [],
   "source": [
    "portfolio_df = pd.read_csv('data/portfolio.csv')\n",
    "portfolio_df.head()"
   ]
  },
  {
   "cell_type": "markdown",
   "metadata": {},
   "source": [
    "To illustrate the use of the bootstrap on this data, we must first create\n",
    "a function, `alpha()`, which takes as input the data and outputs the estimate for $\\alpha$ (described in more detail on page 187)."
   ]
  },
  {
   "cell_type": "code",
   "execution_count": null,
   "metadata": {},
   "outputs": [],
   "source": [
    "def alpha(X,Y):\n",
    "    return ((np.var(Y)-np.cov(X,Y))/(np.var(X)+np.var(Y)-2*np.cov(X,Y)))"
   ]
  },
  {
   "cell_type": "markdown",
   "metadata": {},
   "source": [
    "This function returns, or outputs, an estimate for $\\alpha$ based on applying\n",
    "(5.7) to the observations indexed by the argument index. For instance, the\n",
    "following command tells `python` to estimate $\\alpha$ using all 100 observations."
   ]
  },
  {
   "cell_type": "code",
   "execution_count": null,
   "metadata": {},
   "outputs": [],
   "source": [
    "X = portfolio_df.X[0:100]\n",
    "y = portfolio_df.Y[0:100]\n",
    "print(alpha(X,y))"
   ]
  },
  {
   "cell_type": "markdown",
   "metadata": {},
   "source": [
    "The next command uses the `sample()` function to randomly select 100 observations\n",
    "from the range 1 to 100, with replacement. This is equivalent\n",
    "to constructing a new bootstrap data set and recomputing $\\hat{\\alpha}$ based on the\n",
    "new data set."
   ]
  },
  {
   "cell_type": "code",
   "execution_count": null,
   "metadata": {},
   "outputs": [],
   "source": [
    "dfsample = portfolio_df.sample(frac=1, replace=True)\n",
    "X = dfsample.X[0:100]\n",
    "y = dfsample.Y[0:100]\n",
    "print(alpha(X,y))"
   ]
  },
  {
   "cell_type": "markdown",
   "metadata": {},
   "source": [
    "**sklearn have deprecated bootstrap function because the ML community does not seen resampling as crucial or useful**\n",
    "\n",
    "We can implement a bootstrap analysis by performing this command many\n",
    "times, recording all of the corresponding estimates for $\\alpha$, and computing the resulting standard deviation. Below we produce $1,000$ bootstrap estimates for $\\alpha$:"
   ]
  },
  {
   "cell_type": "code",
   "execution_count": null,
   "metadata": {
    "scrolled": true
   },
   "outputs": [],
   "source": [
    "def bstrap(df):\n",
    "    tresult = 0\n",
    "    for i in range(0,1000):\n",
    "        dfsample = df.sample(frac=1, replace=True)\n",
    "        X = dfsample.X[0:100]\n",
    "        y = dfsample.Y[0:100]\n",
    "        result = alpha(X,y)\n",
    "        tresult += result\n",
    "    fresult = tresult / 1000\n",
    "    print(fresult)\n",
    "    \n",
    "bstrap(portfolio_df)"
   ]
  },
  {
   "cell_type": "markdown",
   "metadata": {},
   "source": [
    "The final output shows that using the original data, $\\hat{\\alpha} = 0.58$"
   ]
  },
  {
   "cell_type": "code",
   "execution_count": null,
   "metadata": {},
   "outputs": [],
   "source": [
    "Image('images/pw45.png', width =800)"
   ]
  },
  {
   "cell_type": "markdown",
   "metadata": {},
   "source": [
    "Left: A Histogram of the estimates of $\\alpha$ obtained by generating 1,000 simulated data sets from the true population. \n",
    "\n",
    "Center: A histogram of the estimates of $\\alpha$ obtained from 1,000 bootstrap samples from a single data set.\n",
    "\n",
    "Right: The estimates of $\\alpha$ displayed in the left and center panels are shown as boxplots. \n",
    "\n",
    "In each panel, the pink line indicates the true value of α."
   ]
  },
  {
   "cell_type": "markdown",
   "metadata": {},
   "source": [
    "#### Example\n",
    "The bootstrap approach can be used to assess the variability of the coefficient\n",
    "estimates and predictions from a statistical learning method. \n",
    "\n",
    "Here we use the bootstrap approach in order to assess the variability of the\n",
    "estimates for $\\beta_0$ and $\\beta_1$, the intercept and slope terms for the linear regression\n",
    "model that uses horsepower to predict mpg in the Auto data set.\n",
    "\n",
    "We will compare the estimates obtained using the bootstrap to those obtained\n",
    "using the formulas for $SE(\\hat{\\beta}_0)$ and $SE(\\hat{\\beta}_1)$ described in Section 3.1.2.\n",
    "\n"
   ]
  },
  {
   "cell_type": "code",
   "execution_count": null,
   "metadata": {},
   "outputs": [],
   "source": [
    "from sklearn.utils import resample\n",
    "\n",
    "auto_df = pd.read_csv('data/auto.csv')\n",
    "\n",
    "auto_df.describe()\n"
   ]
  },
  {
   "cell_type": "code",
   "execution_count": null,
   "metadata": {},
   "outputs": [],
   "source": [
    "lm = skl_lm.LinearRegression()\n",
    "X = auto_df['horsepower'].values.reshape(-1,1)\n",
    "y = auto_df['mpg']\n",
    "clf = lm.fit(X,y)\n",
    "print(clf.coef_, clf.intercept_)"
   ]
  },
  {
   "cell_type": "code",
   "execution_count": null,
   "metadata": {},
   "outputs": [],
   "source": [
    "from sklearn.metrics import mean_squared_error\n",
    "\n",
    "Xsamp, ysamp = resample(X, y, n_samples=1000)\n",
    "clf = lm.fit(Xsamp,ysamp)\n",
    "print('Intercept: ' + str(clf.intercept_) + \" Coef: \" + str(clf.coef_))"
   ]
  },
  {
   "cell_type": "markdown",
   "metadata": {},
   "source": [
    "# Exercise 5"
   ]
  },
  {
   "cell_type": "code",
   "execution_count": null,
   "metadata": {},
   "outputs": [],
   "source": [
    "from sklearn.linear_model import LogisticRegression\n",
    "from sklearn.model_selection import train_test_split\n",
    "import pandas as pd"
   ]
  },
  {
   "cell_type": "code",
   "execution_count": null,
   "metadata": {},
   "outputs": [],
   "source": [
    "default = pd.read_csv('data/default.csv')\n",
    "default['student_yes'] = (default['student'] == 'Yes').astype('int')\n",
    "default['default_yes'] = (default['default'] == 'Yes').astype('int')"
   ]
  },
  {
   "cell_type": "code",
   "execution_count": null,
   "metadata": {},
   "outputs": [],
   "source": [
    "default.head()"
   ]
  },
  {
   "cell_type": "code",
   "execution_count": null,
   "metadata": {},
   "outputs": [],
   "source": [
    "X = default[['balance', 'income']]\n",
    "y = default['default_yes']"
   ]
  },
  {
   "cell_type": "markdown",
   "metadata": {},
   "source": [
    "# No Validation set"
   ]
  },
  {
   "cell_type": "markdown",
   "metadata": {},
   "source": [
    "### Sklearn"
   ]
  },
  {
   "cell_type": "code",
   "execution_count": null,
   "metadata": {},
   "outputs": [],
   "source": [
    "# Notice how tol must be changed to less than default value or convergence won't happen\n",
    "# Use a high value of C to remove regularization\n",
    "model = LogisticRegression(C=100000, tol=.0000001)\n",
    "model.fit(X, y)\n",
    "model.intercept_, model.coef_"
   ]
  },
  {
   "cell_type": "markdown",
   "metadata": {},
   "source": [
    "### Statsmodels\n",
    "Coefficients are similar"
   ]
  },
  {
   "cell_type": "code",
   "execution_count": null,
   "metadata": {},
   "outputs": [],
   "source": [
    "import statsmodels.formula.api as smf"
   ]
  },
  {
   "cell_type": "code",
   "execution_count": null,
   "metadata": {},
   "outputs": [],
   "source": [
    "result = smf.logit(formula='default_yes ~ balance + income', data=default).fit()"
   ]
  },
  {
   "cell_type": "code",
   "execution_count": null,
   "metadata": {},
   "outputs": [],
   "source": [
    "smf.logit?"
   ]
  },
  {
   "cell_type": "code",
   "execution_count": null,
   "metadata": {},
   "outputs": [],
   "source": [
    "result.summary()"
   ]
  },
  {
   "cell_type": "markdown",
   "metadata": {},
   "source": [
    "### Error without validation set\n",
    "This is an in-sample prediction. Training error in both sklearn and statsmodels. Both are equivalent"
   ]
  },
  {
   "cell_type": "code",
   "execution_count": null,
   "metadata": {},
   "outputs": [],
   "source": [
    "(model.predict(X) == y).mean()"
   ]
  },
  {
   "cell_type": "code",
   "execution_count": null,
   "metadata": {},
   "outputs": [],
   "source": [
    "((result.predict(X) > .5) * 1 == y).mean()"
   ]
  },
  {
   "cell_type": "markdown",
   "metadata": {},
   "source": [
    "## With validation set"
   ]
  },
  {
   "cell_type": "code",
   "execution_count": null,
   "metadata": {},
   "outputs": [],
   "source": [
    "X_train, X_test, y_train, y_test = train_test_split(X, y)"
   ]
  },
  {
   "cell_type": "code",
   "execution_count": null,
   "metadata": {},
   "outputs": [],
   "source": [
    "model = LogisticRegression(C=100000, tol=.0000001)\n",
    "model.fit(X_train, y_train)\n",
    "model.intercept_, model.coef_"
   ]
  },
  {
   "cell_type": "code",
   "execution_count": null,
   "metadata": {},
   "outputs": [],
   "source": [
    "X_train_sm = X_train.join(y_train)"
   ]
  },
  {
   "cell_type": "code",
   "execution_count": null,
   "metadata": {},
   "outputs": [],
   "source": [
    "result = smf.logit(formula='default_yes ~ balance + income', data=X_train_sm).fit()\n",
    "result.summary()"
   ]
  },
  {
   "cell_type": "code",
   "execution_count": null,
   "metadata": {},
   "outputs": [],
   "source": [
    "result.fit?"
   ]
  },
  {
   "cell_type": "code",
   "execution_count": null,
   "metadata": {},
   "outputs": [],
   "source": [
    "# Nearly the same as training set. So not too much over fitting has happened\n",
    "(model.predict(X_test) == y_test).mean(), ((result.predict(X_test) > .5) * 1 == y_test).mean()"
   ]
  },
  {
   "cell_type": "markdown",
   "metadata": {},
   "source": [
    "Validation error of only .0272"
   ]
  },
  {
   "cell_type": "code",
   "execution_count": null,
   "metadata": {},
   "outputs": [],
   "source": [
    "# c) repeat for 3 different validation sets\n",
    "model = LogisticRegression(C=100000, tol=.0000001)\n",
    "\n",
    "for i in range(3):\n",
    "    X_train, X_test, y_train, y_test = train_test_split(X, y)\n",
    "    model.fit(X_train, y_train)\n",
    "    \n",
    "    X_train_sm = X_train.join(y_train)\n",
    "    result = smf.logit(formula='default_yes ~ balance + income', data=X_train_sm).fit()\n",
    "    print((model.predict(X_test) == y_test).mean(), ((result.predict(X_test) > .5) * 1 == y_test).mean())"
   ]
  },
  {
   "cell_type": "code",
   "execution_count": null,
   "metadata": {},
   "outputs": [],
   "source": [
    "# d) include student in model\n",
    "X = default[['balance', 'income', 'student_yes']]\n",
    "y = default['default_yes']\n",
    "\n",
    "model = LogisticRegression(C=100000, tol=.0000001)\n",
    "\n",
    "for i in range(3):\n",
    "    X_train, X_test, y_train, y_test = train_test_split(X, y)\n",
    "    model.fit(X_train, y_train)\n",
    "    \n",
    "    X_train_sm = X_train.join(y_train)\n",
    "    result = smf.logit(formula='default_yes ~ balance + income + student_yes', data=X_train_sm).fit()\n",
    "    print((model.predict(X_test) == y_test).mean(), ((result.predict(X_test) > .5) * 1 == y_test).mean())"
   ]
  },
  {
   "cell_type": "markdown",
   "metadata": {},
   "source": [
    "Looks like error rate is very similar"
   ]
  },
  {
   "cell_type": "markdown",
   "metadata": {},
   "source": [
    "## Exercise 6\n",
    "Computing stand errors of coefficents of logistic regression using bootstrap"
   ]
  },
  {
   "cell_type": "code",
   "execution_count": null,
   "metadata": {},
   "outputs": [],
   "source": [
    "result = smf.logit(formula='default_yes ~ balance + income', data=default).fit()\n",
    "result.summary()"
   ]
  },
  {
   "cell_type": "code",
   "execution_count": null,
   "metadata": {},
   "outputs": [],
   "source": [
    "df_params = pd.DataFrame(columns=['Intercept', 'balance', 'income'])\n",
    "for i in range(100):\n",
    "    default_sample = default.sample(len(default), replace=True)\n",
    "    result_sample = smf.logit(formula='default_yes ~ balance + income', data=default_sample).fit(disp=0)\n",
    "    df_params = pd.concat([df_params, pd.DataFrame([result_sample.params])], ignore_index=True)\n"
   ]
  },
  {
   "cell_type": "code",
   "execution_count": null,
   "metadata": {},
   "outputs": [],
   "source": [
    "# bootstrap parameters and standard error\n",
    "df_params.mean(), df_params.std()"
   ]
  },
  {
   "cell_type": "code",
   "execution_count": null,
   "metadata": {},
   "outputs": [],
   "source": [
    "# model parameters and standard error\n",
    "result.params, result.bse"
   ]
  },
  {
   "cell_type": "markdown",
   "metadata": {},
   "source": [
    "Standard errors are a wee bit higher in bootstrap"
   ]
  },
  {
   "cell_type": "markdown",
   "metadata": {},
   "source": [
    "# 7\n",
    "a) Fit Logistic Regression with Lag1, Lag2"
   ]
  },
  {
   "cell_type": "code",
   "execution_count": null,
   "metadata": {},
   "outputs": [],
   "source": [
    "weekly = pd.read_csv('data/weekly.csv')"
   ]
  },
  {
   "cell_type": "code",
   "execution_count": null,
   "metadata": {},
   "outputs": [],
   "source": [
    "weekly['Direction_Up'] = (weekly['Direction'] == 'Up').astype(int)"
   ]
  },
  {
   "cell_type": "code",
   "execution_count": null,
   "metadata": {},
   "outputs": [],
   "source": [
    "weekly.head()"
   ]
  },
  {
   "cell_type": "code",
   "execution_count": null,
   "metadata": {},
   "outputs": [],
   "source": [
    "X = weekly[['Lag1', 'Lag2']]\n",
    "y = weekly['Direction_Up']"
   ]
  },
  {
   "cell_type": "code",
   "execution_count": null,
   "metadata": {},
   "outputs": [],
   "source": [
    "model = LogisticRegression(C=100000, tol=.0000001)\n",
    "model.fit(X, y)"
   ]
  },
  {
   "cell_type": "code",
   "execution_count": null,
   "metadata": {},
   "outputs": [],
   "source": [
    "model.intercept_, model.coef_"
   ]
  },
  {
   "cell_type": "code",
   "execution_count": null,
   "metadata": {},
   "outputs": [],
   "source": [
    "# accuracy\n",
    "(model.predict(X) == y).mean()"
   ]
  },
  {
   "cell_type": "markdown",
   "metadata": {},
   "source": [
    "### b) Fit without first observation"
   ]
  },
  {
   "cell_type": "code",
   "execution_count": null,
   "metadata": {},
   "outputs": [],
   "source": [
    "# model is different but nearly identical\n",
    "model.fit(X.iloc[1:], y.iloc[1:])\n",
    "model.intercept_, model.coef_, (model.predict(X) == y).mean()"
   ]
  },
  {
   "cell_type": "code",
   "execution_count": null,
   "metadata": {},
   "outputs": [],
   "source": [
    "# c\n",
    "# wrong prediction\n",
    "model.predict([X.iloc[0]]), y[0]"
   ]
  },
  {
   "cell_type": "code",
   "execution_count": null,
   "metadata": {},
   "outputs": [],
   "source": [
    "# d\n",
    "errors = np.zeros(len(X))\n",
    "for i in range(len(X)):\n",
    "    leave_out  = ~X.index.isin([i])\n",
    "    model.fit(X[leave_out], y[leave_out])\n",
    "    if model.predict([X.iloc[i]]) != y[i]:\n",
    "        errors[i] = 1"
   ]
  },
  {
   "cell_type": "code",
   "execution_count": null,
   "metadata": {},
   "outputs": [],
   "source": [
    "# e\n",
    "errors.mean()"
   ]
  },
  {
   "cell_type": "markdown",
   "metadata": {},
   "source": [
    "# 8"
   ]
  },
  {
   "cell_type": "code",
   "execution_count": null,
   "metadata": {},
   "outputs": [],
   "source": [
    "np.random.seed(1)\n",
    "x = np.random.randn(100)\n",
    "e = np.random.randn(100)\n",
    "y = x - 2*x**2 + e"
   ]
  },
  {
   "cell_type": "code",
   "execution_count": null,
   "metadata": {},
   "outputs": [],
   "source": [
    "y.shape"
   ]
  },
  {
   "cell_type": "code",
   "execution_count": null,
   "metadata": {},
   "outputs": [],
   "source": [
    "plt.scatter(x, y);"
   ]
  },
  {
   "cell_type": "code",
   "execution_count": null,
   "metadata": {},
   "outputs": [],
   "source": [
    "df = pd.DataFrame(np.array([np.ones(len(x)), x, x ** 2, x ** 3, x ** 4, y]).T, columns=['b0', 'x', 'x2', 'x3', 'x4', 'y'])\n",
    "df.head()"
   ]
  },
  {
   "cell_type": "code",
   "execution_count": null,
   "metadata": {},
   "outputs": [],
   "source": [
    "from sklearn.linear_model import LinearRegression"
   ]
  },
  {
   "cell_type": "code",
   "execution_count": null,
   "metadata": {},
   "outputs": [],
   "source": [
    "X = df.iloc[:, :5]\n",
    "y = df['y']\n",
    "model = LinearRegression()\n",
    "errors = np.zeros((len(X), 4))\n",
    "for i in range(len(X)):\n",
    "    leave_out  = ~X.index.isin([i])\n",
    "    for j in range(4):\n",
    "        model.fit(X.iloc[leave_out, :j+2], y[leave_out])\n",
    "        errors[i, j] = (model.predict([X.iloc[i, :j+2]]) - y[i]) ** 2"
   ]
  },
  {
   "cell_type": "code",
   "execution_count": null,
   "metadata": {},
   "outputs": [],
   "source": [
    "# each error here is average error for linear, quadratic, cubic and quartic model.\n",
    "# Looks like it stabilizes at quadratic.\n",
    "errors.mean(axis=0)"
   ]
  },
  {
   "cell_type": "code",
   "execution_count": null,
   "metadata": {},
   "outputs": [],
   "source": [
    "# again with different seed. \n",
    "np.random.seed(2)\n",
    "x = np.random.randn(100)\n",
    "e = np.random.randn(100)\n",
    "y = x - 2*x**2 + e\n",
    "df = pd.DataFrame(np.array([np.ones(len(x)), x, x ** 2, x ** 3, x ** 4, y]).T, columns=['b0', 'x', 'x2', 'x3', 'x4', 'y'])\n",
    "\n",
    "\n",
    "X = df.iloc[:, :5]\n",
    "y = df['y']\n",
    "model = LinearRegression()\n",
    "errors = np.zeros((len(X), 4))\n",
    "for i in range(len(X)):\n",
    "    leave_out  = ~X.index.isin([i])\n",
    "    for j in range(4):\n",
    "        model.fit(X.iloc[leave_out, :j+2], y[leave_out])\n",
    "        errors[i, j] = (model.predict([X.iloc[i, :j+2]]) - y[i]) ** 2\n",
    "\n",
    "# quite a different average error. But again stabilizes at quadratic which makes sense\n",
    "errors.mean(axis=0)"
   ]
  },
  {
   "cell_type": "markdown",
   "metadata": {},
   "source": [
    "### f \n",
    "since the error doesn't improve after quadratic it's likely the \n",
    "standard errors for x3 and x4 would not be significant"
   ]
  },
  {
   "cell_type": "markdown",
   "metadata": {},
   "source": [
    "# 9"
   ]
  },
  {
   "cell_type": "code",
   "execution_count": null,
   "metadata": {},
   "outputs": [],
   "source": [
    "boston = pd.read_csv('data/boston.csv')\n",
    "boston.head()"
   ]
  },
  {
   "cell_type": "code",
   "execution_count": null,
   "metadata": {},
   "outputs": [],
   "source": [
    "#a\n",
    "boston['medv'].mean()"
   ]
  },
  {
   "cell_type": "code",
   "execution_count": null,
   "metadata": {},
   "outputs": [],
   "source": [
    "#b \n",
    "# standard deviation of mean\n",
    "boston['medv'].std() / np.sqrt(len(boston))"
   ]
  },
  {
   "cell_type": "code",
   "execution_count": null,
   "metadata": {},
   "outputs": [],
   "source": [
    "#c\n",
    "#bootstrap standard deviation of mean\n",
    "means = [boston['medv'].sample(n = len(boston), replace=True).mean() for i in range(1000)]\n",
    "np.std(means)"
   ]
  },
  {
   "cell_type": "code",
   "execution_count": null,
   "metadata": {},
   "outputs": [],
   "source": [
    "#d\n",
    "se = np.std(means)\n",
    "boston['medv'].mean() - 2 * se, boston['medv'].mean() + 2 * se"
   ]
  },
  {
   "cell_type": "markdown",
   "metadata": {},
   "source": [
    "http://stackoverflow.com/questions/15033511/compute-a-confidence-interval-from-sample-data"
   ]
  },
  {
   "cell_type": "code",
   "execution_count": null,
   "metadata": {},
   "outputs": [],
   "source": [
    "import scipy.stats as st"
   ]
  },
  {
   "cell_type": "code",
   "execution_count": null,
   "metadata": {},
   "outputs": [],
   "source": [
    "st.t.interval(0.95, len(boston['medv'])-1, loc=np.mean(boston['medv']), scale=st.sem(boston['medv']))"
   ]
  },
  {
   "cell_type": "code",
   "execution_count": null,
   "metadata": {},
   "outputs": [],
   "source": [
    "#e\n",
    "boston['medv'].median()"
   ]
  },
  {
   "cell_type": "code",
   "execution_count": null,
   "metadata": {},
   "outputs": [],
   "source": [
    "#f\n",
    "medians = [boston['medv'].sample(n = len(boston), replace=True).median() for i in range(1000)]\n",
    "np.std(medians)"
   ]
  },
  {
   "cell_type": "code",
   "execution_count": null,
   "metadata": {},
   "outputs": [],
   "source": [
    "#g\n",
    "boston['medv'].quantile(.1)"
   ]
  },
  {
   "cell_type": "code",
   "execution_count": null,
   "metadata": {},
   "outputs": [],
   "source": [
    "#h\n",
    "quantile_10 = [boston['medv'].sample(n = len(boston), replace=True).quantile(.1) for i in range(1000)]\n",
    "np.std(quantile_10)"
   ]
  }
 ],
 "metadata": {
  "anaconda-cloud": {},
  "kernelspec": {
   "display_name": "Python 3 (ipykernel)",
   "language": "python",
   "name": "python3"
  },
  "language_info": {
   "codemirror_mode": {
    "name": "ipython",
    "version": 3
   },
   "file_extension": ".py",
   "mimetype": "text/x-python",
   "name": "python",
   "nbconvert_exporter": "python",
   "pygments_lexer": "ipython3",
   "version": "3.12.4"
  }
 },
 "nbformat": 4,
 "nbformat_minor": 4
}
