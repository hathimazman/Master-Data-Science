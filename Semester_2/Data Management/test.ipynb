{
 "cells": [
  {
   "cell_type": "code",
   "execution_count": null,
   "id": "b5e82010",
   "metadata": {},
   "outputs": [
    {
     "name": "stdout",
     "output_type": "stream",
     "text": [
      "Spark Version: 3.5.3\n",
      "Spark Master: local[*]\n"
     ]
    }
   ],
   "source": [
    "from pyspark.sql import SparkSession\n",
    "from pyspark.sql import Row\n",
    "from pyspark.sql import functions\n",
    "from pyspark.conf import SparkConf\n",
    "import pyspark\n",
    "\n",
    "def parseInput(line):\n",
    "    fields = line.split('|')\n",
    "    return Row(user_id = int(fields[0]), age = int(fields[1]), gender = fields[2], occupation = fields[3], zip = fields[4])\n",
    "\n",
    "# SOLUTION 1: Stop any existing Spark sessions first\n",
    "try:\n",
    "    # Stop any existing Spark session/context\n",
    "    if 'spark' in globals():\n",
    "        spark.stop()\n",
    "    \n",
    "    # Also stop SparkContext if it exists\n",
    "    sc = pyspark.SparkContext._active_spark_context\n",
    "    if sc is not None:\n",
    "        sc.stop()\n",
    "except:\n",
    "    pass\n",
    "\n",
    "# SOLUTION 2: Start with local mode first (easier for development)\n",
    "# Configure Spark for local mode with Cassandra connection\n",
    "spark = SparkSession.builder \\\n",
    "    .appName(\"CassandraIntegration\") \\\n",
    "    .master(\"local[*]\") \\\n",
    "    .config(\"spark.cassandra.connection.host\", \"192.168.56.101\") \\\n",
    "    .config(\"spark.cassandra.connection.port\", \"9042\") \\\n",
    "    .config(\"spark.sql.adaptive.enabled\", \"false\") \\\n",
    "    .config(\"spark.serializer\", \"org.apache.spark.serializer.KryoSerializer\") \\\n",
    "    .getOrCreate()\n",
    "\n",
    "# Test the connection\n",
    "print(f\"Spark Version: {spark.version}\")\n",
    "print(f\"Spark Master: {spark.sparkContext.master})\n",
    "\n",
    "# Your data processing code here\n",
    "# df = spark.read.text(\"your_data_file.txt\")\n",
    "# parsed_df = df.rdd.map(parseInput).toDF()"
   ]
  },
  {
   "cell_type": "code",
   "execution_count": null,
   "id": "c29591d2",
   "metadata": {},
   "outputs": [],
   "source": [
    "spark.stop()"
   ]
  },
  {
   "cell_type": "code",
   "execution_count": 2,
   "id": "969f3546",
   "metadata": {},
   "outputs": [
    {
     "name": "stdout",
     "output_type": "stream",
     "text": [
      "Original Words: ['Hello', 'world', 'how', 'are', 'you']\n",
      "Characters: ['H', 'e', 'l', 'l', 'o', 'w', 'o', 'r', 'l', 'd', 'h', 'o', 'w', 'a', 'r', 'e', 'y', 'o', 'u']\n"
     ]
    }
   ],
   "source": [
    "# Import SparkContext from the PySpark library\n",
    "from pyspark import SparkContext\n",
    "\n",
    "# Initialize SparkContext\n",
    "# Connects to a Spark cluster running locally on the same machine\n",
    "# Gives the Spark application the name \"FlatMapExample\"\n",
    "sc = SparkContext(\"local\", \"FlatMapExample\")\n",
    "\n",
    "# Create an RDD containing a list of words\n",
    "words_rdd = sc.parallelize([\"Hello\", \"world\", \"how\", \"are\", \"you\"])\n",
    "\n",
    "# Define a function to split each word into its individual characters\n",
    "def split_word(word):\n",
    "    return list(word)  # list() splits the string into its individual characters\n",
    "\n",
    "# Apply flatMap transformation to split each word into individual characters\n",
    "characters_rdd = words_rdd.flatMap(split_word)\n",
    "\n",
    "# Collect the result into a list for printing\n",
    "result = characters_rdd.collect()\n",
    "\n",
    "# Print the result\n",
    "print(\"Original Words:\", words_rdd.collect())\n",
    "print(\"Characters:\", result)\n",
    "\n",
    "# Stop the SparkContext when done (good practice)\n",
    "sc.stop()"
   ]
  },
  {
   "cell_type": "code",
   "execution_count": 1,
   "id": "cd30d56a",
   "metadata": {},
   "outputs": [
    {
     "name": "stdout",
     "output_type": "stream",
     "text": [
      "Python path set to: c:\\Users\\Hathim\\anaconda3\\envs\\MSCDM\\python.exe\n"
     ]
    }
   ],
   "source": [
    "import os\n",
    "import sys\n",
    "\n",
    "# Set Python executable paths explicitly\n",
    "os.environ['PYSPARK_PYTHON'] = sys.executable\n",
    "os.environ['PYSPARK_DRIVER_PYTHON'] = sys.executable\n",
    "\n",
    "print(\"Python path set to:\", sys.executable)"
   ]
  },
  {
   "cell_type": "code",
   "execution_count": null,
   "id": "c614a2fe",
   "metadata": {},
   "outputs": [],
   "source": []
  }
 ],
 "metadata": {
  "kernelspec": {
   "display_name": "MSCDM",
   "language": "python",
   "name": "python3"
  },
  "language_info": {
   "codemirror_mode": {
    "name": "ipython",
    "version": 3
   },
   "file_extension": ".py",
   "mimetype": "text/x-python",
   "name": "python",
   "nbconvert_exporter": "python",
   "pygments_lexer": "ipython3",
   "version": "3.8.20"
  }
 },
 "nbformat": 4,
 "nbformat_minor": 5
}
